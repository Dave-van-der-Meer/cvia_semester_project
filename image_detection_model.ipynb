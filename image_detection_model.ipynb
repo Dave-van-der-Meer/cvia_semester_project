{
 "cells": [
  {
   "cell_type": "markdown",
   "metadata": {},
   "source": [
    "# CVIA Image Detection on SPARK dataset"
   ]
  },
  {
   "cell_type": "markdown",
   "metadata": {},
   "source": [
    "`dataset.labels.iloc[1]`\n",
    "\n",
    "Output:\n",
    "```\n",
    "class                            Terra\n",
    "id                                6536\n",
    "image              image_06536_img.png\n",
    "depth            image_06536_depth.png\n",
    "bbox              [476, 469, 542, 497]\n",
    "illumination                  0.244364\n",
    "rotation        [0.5, -0.6, -0.4, 0.5]\n",
    "translation        [-3.0, -2.3, 147.9]\n",
    "Name: 1, dtype: object\n",
    "```"
   ]
  },
  {
   "cell_type": "markdown",
   "metadata": {},
   "source": [
    "## Keras model"
   ]
  },
  {
   "cell_type": "markdown",
   "metadata": {},
   "source": [
    "Source: https://keras.io/examples/vision/retinanet/"
   ]
  },
  {
   "cell_type": "markdown",
   "metadata": {},
   "source": [
    "Tensorflow version: '2.3.0'"
   ]
  },
  {
   "cell_type": "code",
   "execution_count": 6,
   "metadata": {},
   "outputs": [],
   "source": [
    "from utils import SPARKDataset , PyTorchSparkDataset\n",
    "from matplotlib import pyplot as plt\n",
    "from random import randint\n",
    "\n",
    "import os\n",
    "import re\n",
    "import zipfile\n",
    "\n",
    "import numpy as np\n",
    "import tensorflow as tf\n",
    "from tensorflow import keras\n",
    "\n",
    "import pandas as pd\n",
    "from skimage import io , img_as_uint\n",
    "import matplotlib.patches as mpatches\n",
    "from retinanet_keras_example import *\n",
    "import tensorflow_datasets as tfds\n",
    "# Install tfds with: conda install -c anaconda tensorflow-datasets"
   ]
  },
  {
   "cell_type": "markdown",
   "metadata": {},
   "source": [
    "### Load dataset with utils.py"
   ]
  },
  {
   "cell_type": "code",
   "execution_count": 7,
   "metadata": {},
   "outputs": [],
   "source": [
    "# set up the path to a local copy of the SPARK dataset, labels csv files should be in the same directory.\n",
    "\n",
    "dataset_root_dir = 'D:/Downloads/semester_project/project_files/train_small/'#'./data/'\n",
    "#dataset_root_dir = '/run/media/dave/Volume/cvia_dataset/train_small/'\n",
    "split = 'rgb'\n",
    "test_length = 20\n",
    "dataset = SPARKDataset(root_dir=dataset_root_dir,split=split)"
   ]
  },
  {
   "cell_type": "code",
   "execution_count": 8,
   "metadata": {},
   "outputs": [],
   "source": [
    "# def swap_xy(boxes):\n",
    "#     return pd.concat([boxes.iloc[:, 1], boxes.iloc[:, 0], boxes.iloc[:, 3], boxes.iloc[:, 2]], axis=1)\n",
    "\n",
    "# def convert_to_xywh(boxes):\n",
    "#     width = boxes.iloc[:,2] - boxes.iloc[:,0]\n",
    "#     height = boxes.iloc[:,3] - boxes.iloc[:,1]\n",
    "#     x = boxes.iloc[:,0] + width / 2.0\n",
    "#     y = boxes.iloc[:,1] + height / 2.0\n",
    "#     return pd.concat([x, y, width, height], axis=1)\n",
    "\n",
    "# def convert_to_corners(boxes):\n",
    "#     width = boxes.iloc[:,2]\n",
    "#     height = boxes.iloc[:,3]\n",
    "#     xmin = boxes.iloc[:,0] - width / 2.0\n",
    "#     ymin = boxes.iloc[:,1] - height / 2.0\n",
    "#     xmax = boxes.iloc[:,0] + width / 2.0\n",
    "#     ymax = boxes.iloc[:,1] + height / 2.0\n",
    "#     return pd.concat([xmin, ymin, xmax, ymax], axis=1)"
   ]
  },
  {
   "cell_type": "code",
   "execution_count": 9,
   "metadata": {},
   "outputs": [
    {
     "data": {
      "text/plain": [
       "(606, 692, 945)"
      ]
     },
     "execution_count": 9,
     "metadata": {},
     "output_type": "execute_result"
    }
   ],
   "source": [
    "dataset.get_bbox(3)[1:]"
   ]
  },
  {
   "cell_type": "code",
   "execution_count": 10,
   "metadata": {},
   "outputs": [
    {
     "data": {
      "text/plain": [
       "30000"
      ]
     },
     "execution_count": 10,
     "metadata": {},
     "output_type": "execute_result"
    }
   ],
   "source": [
    "len(dataset.labels)"
   ]
  },
  {
   "cell_type": "code",
   "execution_count": 191,
   "metadata": {},
   "outputs": [],
   "source": [
    "# class,id,image,depth,bbox,illumination,rotation,translation\n",
    "labels_class = []\n",
    "labels_id = []\n",
    "labels_image = []\n",
    "labels_depth = []\n",
    "labels_bbox_xmin = []\n",
    "labels_bbox_ymin = []\n",
    "labels_bbox_xmax = []\n",
    "labels_bbox_ymax = []\n",
    "labels_bbox = []\n",
    "\n",
    "\n",
    "labels_illumination = []\n",
    "\n",
    "\n",
    "for i in range(test_length):\n",
    "    labels_class.append(dataset.labels.iloc[i]['class'])\n",
    "    labels_id.append(dataset.labels.iloc[i]['id'])\n",
    "    labels_image.append(dataset.labels.iloc[i]['image'])\n",
    "    labels_depth.append(dataset.labels.iloc[i]['depth'])\n",
    "    labels_illumination.append(dataset.labels.iloc[i]['illumination'])\n",
    "    \n",
    "    labels_bbox_xmin.append(dataset.get_bbox(i)[0])\n",
    "    labels_bbox_ymin.append(dataset.get_bbox(i)[1])\n",
    "    labels_bbox_xmax.append(dataset.get_bbox(i)[2])\n",
    "    labels_bbox_ymax.append(dataset.get_bbox(i)[3])\n",
    "    labels_bbox.append(np.array([dataset.get_bbox(i)[0],\n",
    "                                 dataset.get_bbox(i)[1],\n",
    "                                 dataset.get_bbox(i)[2],\n",
    "                                 dataset.get_bbox(i)[3]]))\n",
    "    \n",
    "data = {'class': labels_class,\n",
    "        'id': labels_id,\n",
    "        'image': labels_image,\n",
    "        'depth': labels_depth,\n",
    "        'illumination': labels_illumination,\n",
    "       }\n",
    "\n",
    "bbox_data = {'xmin': labels_bbox_xmin,\n",
    "             'ymin': labels_bbox_ymin,\n",
    "             'xmax': labels_bbox_xmax,\n",
    "             'ymax': labels_bbox_ymax\n",
    "            }\n",
    "\n",
    "bbox_data = [labels_bbox_xmin,\n",
    "             labels_bbox_ymin,\n",
    "             labels_bbox_xmax,\n",
    "             labels_bbox_ymax]\n",
    "\n",
    "bbox_data = np.array(bbox_data)\n",
    "\n",
    "# bbox_xywh_data = {'x': labels_bbox_x,\n",
    "#                   'y': labels_bbox_y,\n",
    "#                   'width': labels_bbox_width,\n",
    "#                   'height': labels_bbox_height,\n",
    "#                  }\n",
    "\n",
    "label_dataframe = pd.DataFrame(data)\n",
    "bbox_dataframe = pd.DataFrame(bbox_data)\n",
    "# bbox_xywh_dataframe = pd.DataFrame(bbox_xywh_data)"
   ]
  },
  {
   "cell_type": "code",
   "execution_count": 192,
   "metadata": {},
   "outputs": [
    {
     "data": {
      "text/html": [
       "<div>\n",
       "<style scoped>\n",
       "    .dataframe tbody tr th:only-of-type {\n",
       "        vertical-align: middle;\n",
       "    }\n",
       "\n",
       "    .dataframe tbody tr th {\n",
       "        vertical-align: top;\n",
       "    }\n",
       "\n",
       "    .dataframe thead th {\n",
       "        text-align: right;\n",
       "    }\n",
       "</style>\n",
       "<table border=\"1\" class=\"dataframe\">\n",
       "  <thead>\n",
       "    <tr style=\"text-align: right;\">\n",
       "      <th></th>\n",
       "      <th>class</th>\n",
       "      <th>id</th>\n",
       "      <th>image</th>\n",
       "      <th>depth</th>\n",
       "      <th>illumination</th>\n",
       "    </tr>\n",
       "  </thead>\n",
       "  <tbody>\n",
       "    <tr>\n",
       "      <th>0</th>\n",
       "      <td>Cloudsat</td>\n",
       "      <td>10563</td>\n",
       "      <td>image_10563_img.png</td>\n",
       "      <td>image_10563_depth.png</td>\n",
       "      <td>81.036141</td>\n",
       "    </tr>\n",
       "    <tr>\n",
       "      <th>1</th>\n",
       "      <td>Terra</td>\n",
       "      <td>6536</td>\n",
       "      <td>image_06536_img.png</td>\n",
       "      <td>image_06536_depth.png</td>\n",
       "      <td>0.244364</td>\n",
       "    </tr>\n",
       "    <tr>\n",
       "      <th>2</th>\n",
       "      <td>Sentinel-6</td>\n",
       "      <td>4676</td>\n",
       "      <td>image_04676_img.png</td>\n",
       "      <td>image_04676_depth.png</td>\n",
       "      <td>0.126758</td>\n",
       "    </tr>\n",
       "    <tr>\n",
       "      <th>3</th>\n",
       "      <td>Sentinel-6</td>\n",
       "      <td>2965</td>\n",
       "      <td>image_02965_img.png</td>\n",
       "      <td>image_02965_depth.png</td>\n",
       "      <td>0.686202</td>\n",
       "    </tr>\n",
       "    <tr>\n",
       "      <th>4</th>\n",
       "      <td>CubeSat</td>\n",
       "      <td>3907</td>\n",
       "      <td>image_03907_img.png</td>\n",
       "      <td>image_03907_depth.png</td>\n",
       "      <td>0.480803</td>\n",
       "    </tr>\n",
       "  </tbody>\n",
       "</table>\n",
       "</div>"
      ],
      "text/plain": [
       "        class     id                image                  depth  illumination\n",
       "0    Cloudsat  10563  image_10563_img.png  image_10563_depth.png     81.036141\n",
       "1       Terra   6536  image_06536_img.png  image_06536_depth.png      0.244364\n",
       "2  Sentinel-6   4676  image_04676_img.png  image_04676_depth.png      0.126758\n",
       "3  Sentinel-6   2965  image_02965_img.png  image_02965_depth.png      0.686202\n",
       "4     CubeSat   3907  image_03907_img.png  image_03907_depth.png      0.480803"
      ]
     },
     "execution_count": 192,
     "metadata": {},
     "output_type": "execute_result"
    }
   ],
   "source": [
    "label_dataframe.head()"
   ]
  },
  {
   "cell_type": "code",
   "execution_count": 193,
   "metadata": {},
   "outputs": [
    {
     "data": {
      "text/plain": [
       "20"
      ]
     },
     "execution_count": 193,
     "metadata": {},
     "output_type": "execute_result"
    }
   ],
   "source": [
    "len(label_dataframe)"
   ]
  },
  {
   "cell_type": "code",
   "execution_count": 194,
   "metadata": {},
   "outputs": [
    {
     "data": {
      "text/plain": [
       "array([[262, 476, 520, 377, 523, 293, 505, 406, 546, 547, 329, 149, 390,\n",
       "        449, 569, 531,   0, 461, 404, 522],\n",
       "       [283, 469, 445, 606, 421, 156, 508, 521, 427, 503, 598, 434, 595,\n",
       "        539, 567, 455, 472, 422, 476, 452],\n",
       "       [323, 542, 584, 692, 560, 392, 609, 505, 585, 679, 372, 246, 689,\n",
       "        481, 627, 553, 652, 511, 749, 656],\n",
       "       [367, 497, 516, 945, 464, 241, 640, 573, 511, 600, 641, 568, 721,\n",
       "        596, 669, 554, 807, 507, 703, 557]])"
      ]
     },
     "execution_count": 194,
     "metadata": {},
     "output_type": "execute_result"
    }
   ],
   "source": [
    "bbox_data"
   ]
  },
  {
   "cell_type": "code",
   "execution_count": 195,
   "metadata": {},
   "outputs": [
    {
     "data": {
      "text/html": [
       "<div>\n",
       "<style scoped>\n",
       "    .dataframe tbody tr th:only-of-type {\n",
       "        vertical-align: middle;\n",
       "    }\n",
       "\n",
       "    .dataframe tbody tr th {\n",
       "        vertical-align: top;\n",
       "    }\n",
       "\n",
       "    .dataframe thead th {\n",
       "        text-align: right;\n",
       "    }\n",
       "</style>\n",
       "<table border=\"1\" class=\"dataframe\">\n",
       "  <thead>\n",
       "    <tr style=\"text-align: right;\">\n",
       "      <th></th>\n",
       "      <th>0</th>\n",
       "      <th>1</th>\n",
       "      <th>2</th>\n",
       "      <th>3</th>\n",
       "      <th>4</th>\n",
       "      <th>5</th>\n",
       "      <th>6</th>\n",
       "      <th>7</th>\n",
       "      <th>8</th>\n",
       "      <th>9</th>\n",
       "      <th>10</th>\n",
       "      <th>11</th>\n",
       "      <th>12</th>\n",
       "      <th>13</th>\n",
       "      <th>14</th>\n",
       "      <th>15</th>\n",
       "      <th>16</th>\n",
       "      <th>17</th>\n",
       "      <th>18</th>\n",
       "      <th>19</th>\n",
       "    </tr>\n",
       "  </thead>\n",
       "  <tbody>\n",
       "    <tr>\n",
       "      <th>0</th>\n",
       "      <td>262</td>\n",
       "      <td>476</td>\n",
       "      <td>520</td>\n",
       "      <td>377</td>\n",
       "      <td>523</td>\n",
       "      <td>293</td>\n",
       "      <td>505</td>\n",
       "      <td>406</td>\n",
       "      <td>546</td>\n",
       "      <td>547</td>\n",
       "      <td>329</td>\n",
       "      <td>149</td>\n",
       "      <td>390</td>\n",
       "      <td>449</td>\n",
       "      <td>569</td>\n",
       "      <td>531</td>\n",
       "      <td>0</td>\n",
       "      <td>461</td>\n",
       "      <td>404</td>\n",
       "      <td>522</td>\n",
       "    </tr>\n",
       "    <tr>\n",
       "      <th>1</th>\n",
       "      <td>283</td>\n",
       "      <td>469</td>\n",
       "      <td>445</td>\n",
       "      <td>606</td>\n",
       "      <td>421</td>\n",
       "      <td>156</td>\n",
       "      <td>508</td>\n",
       "      <td>521</td>\n",
       "      <td>427</td>\n",
       "      <td>503</td>\n",
       "      <td>598</td>\n",
       "      <td>434</td>\n",
       "      <td>595</td>\n",
       "      <td>539</td>\n",
       "      <td>567</td>\n",
       "      <td>455</td>\n",
       "      <td>472</td>\n",
       "      <td>422</td>\n",
       "      <td>476</td>\n",
       "      <td>452</td>\n",
       "    </tr>\n",
       "    <tr>\n",
       "      <th>2</th>\n",
       "      <td>323</td>\n",
       "      <td>542</td>\n",
       "      <td>584</td>\n",
       "      <td>692</td>\n",
       "      <td>560</td>\n",
       "      <td>392</td>\n",
       "      <td>609</td>\n",
       "      <td>505</td>\n",
       "      <td>585</td>\n",
       "      <td>679</td>\n",
       "      <td>372</td>\n",
       "      <td>246</td>\n",
       "      <td>689</td>\n",
       "      <td>481</td>\n",
       "      <td>627</td>\n",
       "      <td>553</td>\n",
       "      <td>652</td>\n",
       "      <td>511</td>\n",
       "      <td>749</td>\n",
       "      <td>656</td>\n",
       "    </tr>\n",
       "    <tr>\n",
       "      <th>3</th>\n",
       "      <td>367</td>\n",
       "      <td>497</td>\n",
       "      <td>516</td>\n",
       "      <td>945</td>\n",
       "      <td>464</td>\n",
       "      <td>241</td>\n",
       "      <td>640</td>\n",
       "      <td>573</td>\n",
       "      <td>511</td>\n",
       "      <td>600</td>\n",
       "      <td>641</td>\n",
       "      <td>568</td>\n",
       "      <td>721</td>\n",
       "      <td>596</td>\n",
       "      <td>669</td>\n",
       "      <td>554</td>\n",
       "      <td>807</td>\n",
       "      <td>507</td>\n",
       "      <td>703</td>\n",
       "      <td>557</td>\n",
       "    </tr>\n",
       "  </tbody>\n",
       "</table>\n",
       "</div>"
      ],
      "text/plain": [
       "    0    1    2    3    4    5    6    7    8    9    10   11   12   13   14  \\\n",
       "0  262  476  520  377  523  293  505  406  546  547  329  149  390  449  569   \n",
       "1  283  469  445  606  421  156  508  521  427  503  598  434  595  539  567   \n",
       "2  323  542  584  692  560  392  609  505  585  679  372  246  689  481  627   \n",
       "3  367  497  516  945  464  241  640  573  511  600  641  568  721  596  669   \n",
       "\n",
       "    15   16   17   18   19  \n",
       "0  531    0  461  404  522  \n",
       "1  455  472  422  476  452  \n",
       "2  553  652  511  749  656  \n",
       "3  554  807  507  703  557  "
      ]
     },
     "execution_count": 195,
     "metadata": {},
     "output_type": "execute_result"
    }
   ],
   "source": [
    "bbox_dataframe.head()"
   ]
  },
  {
   "cell_type": "code",
   "execution_count": 196,
   "metadata": {},
   "outputs": [
    {
     "data": {
      "text/plain": [
       "<TensorSliceDataset shapes: (20,), types: tf.int32>"
      ]
     },
     "execution_count": 196,
     "metadata": {},
     "output_type": "execute_result"
    }
   ],
   "source": [
    "tf.data.Dataset.from_tensor_slices(bbox_dataframe)"
   ]
  },
  {
   "cell_type": "code",
   "execution_count": 197,
   "metadata": {},
   "outputs": [],
   "source": [
    "# bbox_dataframe"
   ]
  },
  {
   "cell_type": "code",
   "execution_count": 198,
   "metadata": {},
   "outputs": [],
   "source": [
    "# bbox_xywh_dataframe"
   ]
  },
  {
   "cell_type": "markdown",
   "metadata": {},
   "source": [
    "### Dataframe slicing"
   ]
  },
  {
   "cell_type": "code",
   "execution_count": 199,
   "metadata": {},
   "outputs": [],
   "source": [
    "# bbox_dataframe.iloc[0:5,:2]"
   ]
  },
  {
   "cell_type": "code",
   "execution_count": 200,
   "metadata": {},
   "outputs": [],
   "source": [
    "# bbox_dataframe.iloc[:,2:]"
   ]
  },
  {
   "cell_type": "code",
   "execution_count": 201,
   "metadata": {},
   "outputs": [
    {
     "name": "stdout",
     "output_type": "stream",
     "text": [
      "D:/Downloads/semester_project/project_files/train_small/rgb\\Aura/image_09134_img.png\n"
     ]
    }
   ],
   "source": [
    "print(os.path.join(dataset.root_dir, f\"{label_dataframe['class'][i]}/{label_dataframe['image'][i]}\"))"
   ]
  },
  {
   "cell_type": "code",
   "execution_count": 202,
   "metadata": {},
   "outputs": [],
   "source": [
    "def visualize(i, label_dataframe, bbox_dataframe, root_dir, size=(15,15),  ax=None, image_type='rgb'):\n",
    "\n",
    "        \"\"\" Visualizing image, with ground truth pose with axes projected to training image. \"\"\"\n",
    "\n",
    "        if ax is None:\n",
    "            ax = plt.gca()\n",
    "            \n",
    "        image_path = os.path.join(root_dir, f\"rgb/{label_dataframe['class'][i]}/{label_dataframe['image'][i]}\")\n",
    "        depth_path = os.path.join(root_dir, f\"depth/{label_dataframe['class'][i]}/{label_dataframe['depth'][i]}\")\n",
    "        \n",
    "        min_x = bbox_dataframe['xmin'][i]\n",
    "        min_y = bbox_dataframe['ymin'][i]\n",
    "        max_x = bbox_dataframe['xmax'][i]\n",
    "        max_y = bbox_dataframe['ymax'][i]\n",
    "        \n",
    "        \n",
    "        image = io.imread(image_path)\n",
    "        depth = io.imread(depth_path)\n",
    "\n",
    "        if image_type=='rgb':\n",
    "            ax.imshow(image,vmin=0, vmax=255)\n",
    "            my_color = 'red'\n",
    "            im_scale = 1\n",
    "        elif image_type=='depth':\n",
    "            ax.imshow(depth, vmin=0, vmax=255)\n",
    "            my_color = 'red'\n",
    "            im_scale = 0.25\n",
    "        else:\n",
    "            print('Incorrect parameter: image_type. Exiting function!')\n",
    "            return\n",
    "        \n",
    "        \n",
    "        min_x = bbox_dataframe['xmin'][i]\n",
    "        min_y = bbox_dataframe['ymin'][i]\n",
    "        max_x = bbox_dataframe['xmax'][i]\n",
    "        max_y = bbox_dataframe['ymax'][i]\n",
    "        rect = mpatches.Rectangle((im_scale*min_y, im_scale*min_x), im_scale*(max_y - min_y), im_scale*(max_x - min_x),\n",
    "                                    fill=False, edgecolor=my_color, linewidth=2)\n",
    "\n",
    "        ax.add_patch(rect)\n",
    "        \n",
    "        #label = f\"{list(self.class_map.keys())[list(self.class_map.values()).index(img_class)]}\"\n",
    "        \n",
    "        #ax.text(min_y, min_x-20, label,color='white',fontsize=15)\n",
    "        ax.set_axis_off()\n",
    "\n",
    "        return "
   ]
  },
  {
   "cell_type": "code",
   "execution_count": 203,
   "metadata": {},
   "outputs": [
    {
     "ename": "KeyError",
     "evalue": "'xmin'",
     "output_type": "error",
     "traceback": [
      "\u001b[1;31m---------------------------------------------------------------------------\u001b[0m",
      "\u001b[1;31mKeyError\u001b[0m                                  Traceback (most recent call last)",
      "\u001b[1;32m~\\AppData\\Local\\Temp/ipykernel_15944/2299308459.py\u001b[0m in \u001b[0;36m<module>\u001b[1;34m\u001b[0m\n\u001b[0;32m      1\u001b[0m \u001b[0mroot_dir\u001b[0m \u001b[1;33m=\u001b[0m \u001b[1;34m'/run/media/dave/Volume/cvia_dataset/train_small/'\u001b[0m\u001b[1;33m\u001b[0m\u001b[1;33m\u001b[0m\u001b[0m\n\u001b[0;32m      2\u001b[0m \u001b[0mroot_dir\u001b[0m \u001b[1;33m=\u001b[0m \u001b[1;34m'D:/Downloads/semester_project/project_files/train_small/'\u001b[0m\u001b[1;33m\u001b[0m\u001b[1;33m\u001b[0m\u001b[0m\n\u001b[1;32m----> 3\u001b[1;33m visualize(3, \n\u001b[0m\u001b[0;32m      4\u001b[0m           \u001b[0mlabel_dataframe\u001b[0m\u001b[1;33m,\u001b[0m\u001b[1;33m\u001b[0m\u001b[1;33m\u001b[0m\u001b[0m\n\u001b[0;32m      5\u001b[0m           \u001b[0mbbox_dataframe\u001b[0m\u001b[1;33m,\u001b[0m\u001b[1;33m\u001b[0m\u001b[1;33m\u001b[0m\u001b[0m\n",
      "\u001b[1;32m~\\AppData\\Local\\Temp/ipykernel_15944/4273599281.py\u001b[0m in \u001b[0;36mvisualize\u001b[1;34m(i, label_dataframe, bbox_dataframe, root_dir, size, ax, image_type)\u001b[0m\n\u001b[0;32m      9\u001b[0m         \u001b[0mdepth_path\u001b[0m \u001b[1;33m=\u001b[0m \u001b[0mos\u001b[0m\u001b[1;33m.\u001b[0m\u001b[0mpath\u001b[0m\u001b[1;33m.\u001b[0m\u001b[0mjoin\u001b[0m\u001b[1;33m(\u001b[0m\u001b[0mroot_dir\u001b[0m\u001b[1;33m,\u001b[0m \u001b[1;34mf\"depth/{label_dataframe['class'][i]}/{label_dataframe['depth'][i]}\"\u001b[0m\u001b[1;33m)\u001b[0m\u001b[1;33m\u001b[0m\u001b[1;33m\u001b[0m\u001b[0m\n\u001b[0;32m     10\u001b[0m \u001b[1;33m\u001b[0m\u001b[0m\n\u001b[1;32m---> 11\u001b[1;33m         \u001b[0mmin_x\u001b[0m \u001b[1;33m=\u001b[0m \u001b[0mbbox_dataframe\u001b[0m\u001b[1;33m[\u001b[0m\u001b[1;34m'xmin'\u001b[0m\u001b[1;33m]\u001b[0m\u001b[1;33m[\u001b[0m\u001b[0mi\u001b[0m\u001b[1;33m]\u001b[0m\u001b[1;33m\u001b[0m\u001b[1;33m\u001b[0m\u001b[0m\n\u001b[0m\u001b[0;32m     12\u001b[0m         \u001b[0mmin_y\u001b[0m \u001b[1;33m=\u001b[0m \u001b[0mbbox_dataframe\u001b[0m\u001b[1;33m[\u001b[0m\u001b[1;34m'ymin'\u001b[0m\u001b[1;33m]\u001b[0m\u001b[1;33m[\u001b[0m\u001b[0mi\u001b[0m\u001b[1;33m]\u001b[0m\u001b[1;33m\u001b[0m\u001b[1;33m\u001b[0m\u001b[0m\n\u001b[0;32m     13\u001b[0m         \u001b[0mmax_x\u001b[0m \u001b[1;33m=\u001b[0m \u001b[0mbbox_dataframe\u001b[0m\u001b[1;33m[\u001b[0m\u001b[1;34m'xmax'\u001b[0m\u001b[1;33m]\u001b[0m\u001b[1;33m[\u001b[0m\u001b[0mi\u001b[0m\u001b[1;33m]\u001b[0m\u001b[1;33m\u001b[0m\u001b[1;33m\u001b[0m\u001b[0m\n",
      "\u001b[1;32mD:\\Programs\\Anaconda\\lib\\site-packages\\pandas\\core\\frame.py\u001b[0m in \u001b[0;36m__getitem__\u001b[1;34m(self, key)\u001b[0m\n\u001b[0;32m   3456\u001b[0m             \u001b[1;32mif\u001b[0m \u001b[0mself\u001b[0m\u001b[1;33m.\u001b[0m\u001b[0mcolumns\u001b[0m\u001b[1;33m.\u001b[0m\u001b[0mnlevels\u001b[0m \u001b[1;33m>\u001b[0m \u001b[1;36m1\u001b[0m\u001b[1;33m:\u001b[0m\u001b[1;33m\u001b[0m\u001b[1;33m\u001b[0m\u001b[0m\n\u001b[0;32m   3457\u001b[0m                 \u001b[1;32mreturn\u001b[0m \u001b[0mself\u001b[0m\u001b[1;33m.\u001b[0m\u001b[0m_getitem_multilevel\u001b[0m\u001b[1;33m(\u001b[0m\u001b[0mkey\u001b[0m\u001b[1;33m)\u001b[0m\u001b[1;33m\u001b[0m\u001b[1;33m\u001b[0m\u001b[0m\n\u001b[1;32m-> 3458\u001b[1;33m             \u001b[0mindexer\u001b[0m \u001b[1;33m=\u001b[0m \u001b[0mself\u001b[0m\u001b[1;33m.\u001b[0m\u001b[0mcolumns\u001b[0m\u001b[1;33m.\u001b[0m\u001b[0mget_loc\u001b[0m\u001b[1;33m(\u001b[0m\u001b[0mkey\u001b[0m\u001b[1;33m)\u001b[0m\u001b[1;33m\u001b[0m\u001b[1;33m\u001b[0m\u001b[0m\n\u001b[0m\u001b[0;32m   3459\u001b[0m             \u001b[1;32mif\u001b[0m \u001b[0mis_integer\u001b[0m\u001b[1;33m(\u001b[0m\u001b[0mindexer\u001b[0m\u001b[1;33m)\u001b[0m\u001b[1;33m:\u001b[0m\u001b[1;33m\u001b[0m\u001b[1;33m\u001b[0m\u001b[0m\n\u001b[0;32m   3460\u001b[0m                 \u001b[0mindexer\u001b[0m \u001b[1;33m=\u001b[0m \u001b[1;33m[\u001b[0m\u001b[0mindexer\u001b[0m\u001b[1;33m]\u001b[0m\u001b[1;33m\u001b[0m\u001b[1;33m\u001b[0m\u001b[0m\n",
      "\u001b[1;32mD:\\Programs\\Anaconda\\lib\\site-packages\\pandas\\core\\indexes\\range.py\u001b[0m in \u001b[0;36mget_loc\u001b[1;34m(self, key, method, tolerance)\u001b[0m\n\u001b[0;32m    386\u001b[0m                 \u001b[1;32mexcept\u001b[0m \u001b[0mValueError\u001b[0m \u001b[1;32mas\u001b[0m \u001b[0merr\u001b[0m\u001b[1;33m:\u001b[0m\u001b[1;33m\u001b[0m\u001b[1;33m\u001b[0m\u001b[0m\n\u001b[0;32m    387\u001b[0m                     \u001b[1;32mraise\u001b[0m \u001b[0mKeyError\u001b[0m\u001b[1;33m(\u001b[0m\u001b[0mkey\u001b[0m\u001b[1;33m)\u001b[0m \u001b[1;32mfrom\u001b[0m \u001b[0merr\u001b[0m\u001b[1;33m\u001b[0m\u001b[1;33m\u001b[0m\u001b[0m\n\u001b[1;32m--> 388\u001b[1;33m             \u001b[1;32mraise\u001b[0m \u001b[0mKeyError\u001b[0m\u001b[1;33m(\u001b[0m\u001b[0mkey\u001b[0m\u001b[1;33m)\u001b[0m\u001b[1;33m\u001b[0m\u001b[1;33m\u001b[0m\u001b[0m\n\u001b[0m\u001b[0;32m    389\u001b[0m         \u001b[1;32mreturn\u001b[0m \u001b[0msuper\u001b[0m\u001b[1;33m(\u001b[0m\u001b[1;33m)\u001b[0m\u001b[1;33m.\u001b[0m\u001b[0mget_loc\u001b[0m\u001b[1;33m(\u001b[0m\u001b[0mkey\u001b[0m\u001b[1;33m,\u001b[0m \u001b[0mmethod\u001b[0m\u001b[1;33m=\u001b[0m\u001b[0mmethod\u001b[0m\u001b[1;33m,\u001b[0m \u001b[0mtolerance\u001b[0m\u001b[1;33m=\u001b[0m\u001b[0mtolerance\u001b[0m\u001b[1;33m)\u001b[0m\u001b[1;33m\u001b[0m\u001b[1;33m\u001b[0m\u001b[0m\n\u001b[0;32m    390\u001b[0m \u001b[1;33m\u001b[0m\u001b[0m\n",
      "\u001b[1;31mKeyError\u001b[0m: 'xmin'"
     ]
    },
    {
     "data": {
      "image/png": "[encoded data removed]",
      "text/plain": [
       "<Figure size 432x288 with 1 Axes>"
      ]
     },
     "metadata": {
      "needs_background": "light"
     },
     "output_type": "display_data"
    }
   ],
   "source": [
    "root_dir = '/run/media/dave/Volume/cvia_dataset/train_small/'\n",
    "root_dir = 'D:/Downloads/semester_project/project_files/train_small/'\n",
    "visualize(3, \n",
    "          label_dataframe,\n",
    "          bbox_dataframe,\n",
    "          root_dir,\n",
    "          ax=None,\n",
    "          size=(15,15),\n",
    "          image_type='rgb')"
   ]
  },
  {
   "cell_type": "code",
   "execution_count": null,
   "metadata": {},
   "outputs": [],
   "source": []
  },
  {
   "cell_type": "markdown",
   "metadata": {},
   "source": [
    "## Create model conform dataset"
   ]
  },
  {
   "cell_type": "markdown",
   "metadata": {},
   "source": [
    "Dataset should be compliant to the following form:\n",
    "\n",
    "```python\n",
    "{'image': TensorSpec(shape=(None, None, 3), dtype=tf.uint8, name=None), \n",
    " 'image/filename': TensorSpec(shape=(), dtype=tf.string, name=None), \n",
    " 'image/id': TensorSpec(shape=(), dtype=tf.int64, name=None), \n",
    " 'objects': \n",
    "     {'area': TensorSpec(shape=(None,), dtype=tf.int64, name=None), \n",
    "      'bbox': TensorSpec(shape=(None, 4), dtype=tf.float32, name=None), \n",
    "      'id': TensorSpec(shape=(None,), dtype=tf.int64, name=None), \n",
    "      'is_crowd': TensorSpec(shape=(None,), dtype=tf.bool, name=None), \n",
    "      'label': TensorSpec(shape=(None,), dtype=tf.int64, name=None)\n",
    "     }\n",
    "}\n",
    "```"
   ]
  },
  {
   "cell_type": "code",
   "execution_count": 204,
   "metadata": {},
   "outputs": [
    {
     "data": {
      "text/html": [
       "<div>\n",
       "<style scoped>\n",
       "    .dataframe tbody tr th:only-of-type {\n",
       "        vertical-align: middle;\n",
       "    }\n",
       "\n",
       "    .dataframe tbody tr th {\n",
       "        vertical-align: top;\n",
       "    }\n",
       "\n",
       "    .dataframe thead th {\n",
       "        text-align: right;\n",
       "    }\n",
       "</style>\n",
       "<table border=\"1\" class=\"dataframe\">\n",
       "  <thead>\n",
       "    <tr style=\"text-align: right;\">\n",
       "      <th></th>\n",
       "      <th>class</th>\n",
       "      <th>id</th>\n",
       "      <th>image</th>\n",
       "      <th>depth</th>\n",
       "      <th>illumination</th>\n",
       "    </tr>\n",
       "  </thead>\n",
       "  <tbody>\n",
       "    <tr>\n",
       "      <th>0</th>\n",
       "      <td>Cloudsat</td>\n",
       "      <td>10563</td>\n",
       "      <td>image_10563_img.png</td>\n",
       "      <td>image_10563_depth.png</td>\n",
       "      <td>81.036141</td>\n",
       "    </tr>\n",
       "    <tr>\n",
       "      <th>1</th>\n",
       "      <td>Terra</td>\n",
       "      <td>6536</td>\n",
       "      <td>image_06536_img.png</td>\n",
       "      <td>image_06536_depth.png</td>\n",
       "      <td>0.244364</td>\n",
       "    </tr>\n",
       "    <tr>\n",
       "      <th>2</th>\n",
       "      <td>Sentinel-6</td>\n",
       "      <td>4676</td>\n",
       "      <td>image_04676_img.png</td>\n",
       "      <td>image_04676_depth.png</td>\n",
       "      <td>0.126758</td>\n",
       "    </tr>\n",
       "    <tr>\n",
       "      <th>3</th>\n",
       "      <td>Sentinel-6</td>\n",
       "      <td>2965</td>\n",
       "      <td>image_02965_img.png</td>\n",
       "      <td>image_02965_depth.png</td>\n",
       "      <td>0.686202</td>\n",
       "    </tr>\n",
       "    <tr>\n",
       "      <th>4</th>\n",
       "      <td>CubeSat</td>\n",
       "      <td>3907</td>\n",
       "      <td>image_03907_img.png</td>\n",
       "      <td>image_03907_depth.png</td>\n",
       "      <td>0.480803</td>\n",
       "    </tr>\n",
       "  </tbody>\n",
       "</table>\n",
       "</div>"
      ],
      "text/plain": [
       "        class     id                image                  depth  illumination\n",
       "0    Cloudsat  10563  image_10563_img.png  image_10563_depth.png     81.036141\n",
       "1       Terra   6536  image_06536_img.png  image_06536_depth.png      0.244364\n",
       "2  Sentinel-6   4676  image_04676_img.png  image_04676_depth.png      0.126758\n",
       "3  Sentinel-6   2965  image_02965_img.png  image_02965_depth.png      0.686202\n",
       "4     CubeSat   3907  image_03907_img.png  image_03907_depth.png      0.480803"
      ]
     },
     "execution_count": 204,
     "metadata": {},
     "output_type": "execute_result"
    }
   ],
   "source": [
    "label_dataframe.head()"
   ]
  },
  {
   "cell_type": "code",
   "execution_count": null,
   "metadata": {},
   "outputs": [],
   "source": []
  },
  {
   "cell_type": "markdown",
   "metadata": {},
   "source": [
    "#### Generate a dataframe slice with the images"
   ]
  },
  {
   "cell_type": "code",
   "execution_count": 205,
   "metadata": {},
   "outputs": [],
   "source": [
    "def generate_images_frame(dataframe, root_dir):\n",
    "    images = []\n",
    "    image_path = os.path.join(root_dir, f\"rgb/{label_dataframe['class'][i]}/{label_dataframe['image'][i]}\")\n",
    "    for image_name in label_dataframe['image']:\n",
    "         images.append(io.imread(image_path))\n",
    "    return images\n",
    "\n",
    "dataset_images = generate_images_frame(label_dataframe, root_dir)"
   ]
  },
  {
   "cell_type": "markdown",
   "metadata": {},
   "source": [
    "#### Generate the tensorflow dataframe with the respective fields"
   ]
  },
  {
   "cell_type": "code",
   "execution_count": 206,
   "metadata": {},
   "outputs": [
    {
     "data": {
      "text/plain": [
       "0    262\n",
       "1    283\n",
       "2    323\n",
       "3    367\n",
       "Name: 0, dtype: int32"
      ]
     },
     "execution_count": 206,
     "metadata": {},
     "output_type": "execute_result"
    }
   ],
   "source": [
    "bbox_dataframe.iloc[:, 0]"
   ]
  },
  {
   "cell_type": "code",
   "execution_count": 229,
   "metadata": {},
   "outputs": [],
   "source": [
    "dataset_areas = []\n",
    "# areas = (bbox_dataframe['xmax'] - bbox_dataframe['xmin']) * (bbox_dataframe['ymax'] - bbox_dataframe['ymin'])\n",
    "areas = (bbox_dataframe.iloc[2,:] - bbox_dataframe.iloc[0,:]) * (bbox_dataframe.iloc[3,:] - bbox_dataframe.iloc[1,:])\n",
    "is_crowds = []\n",
    "for i in range(len(label_dataframe)):\n",
    "    is_crowds.append(False)\n",
    "#np.zeros(len(label_dataframe))\n",
    "\n",
    "class_map =  {'AcrimSat':0, 'Aquarius':1, 'Aura':2, 'Calipso':3, 'Cloudsat':4, 'CubeSat':5,\n",
    "                           'Debris' :6, 'Jason':7, 'Sentinel-6':8, 'Terra':9, 'TRMM':10}\n",
    "remapped_labels = []\n",
    "for i in range(len(label_dataframe)):\n",
    "    remapped_labels.append(class_map[label_dataframe['class'][i]])\n",
    "remapped_labels = np.int64(remapped_labels)\n",
    "\n",
    "dataset_objects = {'area': areas,\n",
    "                   'bbox': np.transpose(bbox_dataframe),\n",
    "                   'id': label_dataframe['id'],\n",
    "                   'is_crowd': is_crowds,\n",
    "                   'label': remapped_labels,\n",
    "                  }\n",
    "tf_input_data = {'image': dataset_images, \n",
    "                 'image/filename': label_dataframe['image'], \n",
    "                 'image/id': label_dataframe['id'],\n",
    "                 'objects': dataset_objects\n",
    "                 }"
   ]
  },
  {
   "cell_type": "code",
   "execution_count": 230,
   "metadata": {},
   "outputs": [
    {
     "data": {
      "text/plain": [
       "20"
      ]
     },
     "execution_count": 230,
     "metadata": {},
     "output_type": "execute_result"
    }
   ],
   "source": [
    "len(np.transpose(bbox_dataframe))"
   ]
  },
  {
   "cell_type": "code",
   "execution_count": 231,
   "metadata": {},
   "outputs": [],
   "source": [
    "tf_dataset = tf.data.Dataset.from_tensor_slices(tf_input_data)"
   ]
  },
  {
   "cell_type": "code",
   "execution_count": 232,
   "metadata": {},
   "outputs": [
    {
     "name": "stdout",
     "output_type": "stream",
     "text": [
      "<TensorSliceDataset shapes: {image: (1024, 1024, 3), image/filename: (), image/id: (), objects: {area: (), bbox: (4,), id: (), is_crowd: (), label: ()}}, types: {image: tf.int32, image/filename: tf.string, image/id: tf.int64, objects: {area: tf.int32, bbox: tf.int32, id: tf.int64, is_crowd: tf.bool, label: tf.int64}}>\n"
     ]
    }
   ],
   "source": [
    "print(tf_dataset)"
   ]
  },
  {
   "cell_type": "code",
   "execution_count": 124,
   "metadata": {},
   "outputs": [
    {
     "name": "stdout",
     "output_type": "stream",
     "text": [
      "10563\n",
      "{'area': 5124, 'bbox': array([262, 283, 323, 367], dtype=int64), 'id': 10563, 'is_crowd': False, 'label': 4}\n",
      "bbox: [262 283 323 367]\n"
     ]
    },
    {
     "data": {
      "image/png": "[encoded data removed]",
      "text/plain": [
       "<Figure size 432x288 with 1 Axes>"
      ]
     },
     "metadata": {
      "needs_background": "light"
     },
     "output_type": "display_data"
    }
   ],
   "source": [
    "for element in tf_dataset.take(1).as_numpy_iterator():\n",
    "    print(element['image/id'])\n",
    "    print(element['objects'])\n",
    "    print(f\"bbox: {element['objects']['bbox']}\")\n",
    "    plt.imshow(element['image'])"
   ]
  },
  {
   "cell_type": "code",
   "execution_count": null,
   "metadata": {},
   "outputs": [],
   "source": []
  },
  {
   "cell_type": "code",
   "execution_count": 125,
   "metadata": {},
   "outputs": [],
   "source": [
    "# def compute_iou(boxes1, boxes2):\n",
    "#     \"\"\"Computes pairwise IOU matrix for given two sets of boxes\n",
    "\n",
    "#     Arguments:\n",
    "#       boxes1: A tensor with shape `(N, 4)` representing bounding boxes\n",
    "#         where each box is of the format `[x, y, width, height]`.\n",
    "#         boxes2: A tensor with shape `(M, 4)` representing bounding boxes\n",
    "#         where each box is of the format `[x, y, width, height]`.\n",
    "\n",
    "#     Returns:\n",
    "#       pairwise IOU matrix with shape `(N, M)`, where the value at ith row\n",
    "#         jth column holds the IOU between ith box and jth box from\n",
    "#         boxes1 and boxes2 respectively.\n",
    "#     \"\"\"\n",
    "#     boxes1_corners = convert_to_corners(boxes1)\n",
    "#     boxes2_corners = convert_to_corners(boxes2)\n",
    "#     lu = tf.maximum(boxes1.iloc[:, :2], boxes2.iloc[:, :2])\n",
    "#     rd = tf.minimum(boxes1.iloc[:, 2:], boxes2.iloc[:, 2:])\n",
    "#     zeros_frame = pd.DataFrame(np.zeros((len(boxes1), 1)))\n",
    "#     intersection = tf.maximum(zeros_frame, rd - lu)\n",
    "#     intersection_area = intersection[:, 0] * intersection[:, 1]\n",
    "#     boxes1_area = boxes1.iloc[:, 2] * boxes1.iloc[:, 3]\n",
    "#     boxes2_area = boxes2.iloc[:, 2] * boxes2.iloc[:, 3]\n",
    "#     ones_frame = pd.DataFrame(np.ones((len(boxes1), 1)))\n",
    "#     union_area = tf.maximum(\n",
    "#         boxes1_area + boxes2_area - intersection_area, 1e-8 * ones_frame\n",
    "#     )\n",
    "#     return tf.clip_by_value(intersection_area / union_area, 0.0, 1.0)"
   ]
  },
  {
   "cell_type": "code",
   "execution_count": 126,
   "metadata": {},
   "outputs": [],
   "source": [
    "# compute_iou(bbox_dataframe, bbox_dataframe)"
   ]
  },
  {
   "cell_type": "code",
   "execution_count": 127,
   "metadata": {},
   "outputs": [],
   "source": [
    "# def visualize_detections(\n",
    "#     image, boxes, classes, scores, figsize=(7, 7), linewidth=1, color=[0, 0, 1]\n",
    "# ):\n",
    "#     \"\"\"Visualize Detections\"\"\"\n",
    "#     image = np.array(image, dtype=np.uint8)\n",
    "#     plt.figure(figsize=figsize)\n",
    "#     plt.axis(\"off\")\n",
    "#     plt.imshow(image)\n",
    "#     ax = plt.gca()\n",
    "#     for box, _cls, score in zip(boxes, classes, scores):\n",
    "#         text = \"{}: {:.2f}\".format(_cls, score)\n",
    "#         x1, y1, x2, y2 = box\n",
    "#         w, h = x2 - x1, y2 - y1\n",
    "#         patch = plt.Rectangle(\n",
    "#             [x1, y1], w, h, fill=False, edgecolor=color, linewidth=linewidth\n",
    "#         )\n",
    "#         ax.add_patch(patch)\n",
    "#         ax.text(\n",
    "#             x1,\n",
    "#             y1,\n",
    "#             text,\n",
    "#             bbox={\"facecolor\": color, \"alpha\": 0.4},\n",
    "#             clip_box=ax.clipbox,\n",
    "#             clip_on=True,\n",
    "#         )\n",
    "#     plt.show()\n",
    "#     return ax"
   ]
  },
  {
   "cell_type": "code",
   "execution_count": null,
   "metadata": {},
   "outputs": [],
   "source": []
  },
  {
   "cell_type": "markdown",
   "metadata": {},
   "source": [
    "## Generate the Keras Model"
   ]
  },
  {
   "cell_type": "markdown",
   "metadata": {},
   "source": [
    "Setting up training parameters:"
   ]
  },
  {
   "cell_type": "code",
   "execution_count": 128,
   "metadata": {},
   "outputs": [],
   "source": [
    "model_dir = r\"D:/Downloads/semester_project/project_files/retinanet/\"\n",
    "label_encoder = LabelEncoder()\n",
    "\n",
    "num_classes = 11\n",
    "batch_size = 2\n",
    "\n",
    "learning_rates = [2.5e-06, 0.000625, 0.00125, 0.0025, 0.00025, 2.5e-05]\n",
    "learning_rate_boundaries = [125, 250, 500, 240000, 360000]\n",
    "learning_rate_fn = tf.optimizers.schedules.PiecewiseConstantDecay(\n",
    "    boundaries=learning_rate_boundaries, values=learning_rates\n",
    ")"
   ]
  },
  {
   "cell_type": "markdown",
   "metadata": {},
   "source": [
    "Initializing and compiling model:"
   ]
  },
  {
   "cell_type": "code",
   "execution_count": 129,
   "metadata": {},
   "outputs": [],
   "source": [
    "resnet50_backbone = get_backbone()\n",
    "loss_fn = RetinaNetLoss(num_classes)\n",
    "model = RetinaNet(num_classes, resnet50_backbone)\n",
    "\n",
    "optimizer = tf.optimizers.SGD(learning_rate=learning_rate_fn, momentum=0.9)\n",
    "model.compile(loss=loss_fn, optimizer=optimizer)"
   ]
  },
  {
   "cell_type": "markdown",
   "metadata": {},
   "source": [
    "Setting up callbacks:"
   ]
  },
  {
   "cell_type": "code",
   "execution_count": 130,
   "metadata": {},
   "outputs": [],
   "source": [
    "callbacks_list = [\n",
    "    tf.keras.callbacks.ModelCheckpoint(\n",
    "        filepath=os.path.join(model_dir, \"weights\" + \"_epoch_{epoch}\"),\n",
    "        monitor=\"loss\",\n",
    "        save_best_only=False,\n",
    "        save_weights_only=True,\n",
    "        verbose=1,\n",
    "    )\n",
    "]"
   ]
  },
  {
   "cell_type": "markdown",
   "metadata": {},
   "source": [
    "Load dataset as training and validation set:"
   ]
  },
  {
   "cell_type": "code",
   "execution_count": 131,
   "metadata": {},
   "outputs": [],
   "source": [
    "# (train_dataset, val_dataset), dataset_info = tfds.load(\n",
    "#     \"coco/2017\", split=[\"train\", \"validation\"], with_info=True, data_dir=\"data\"\n",
    "# )"
   ]
  },
  {
   "cell_type": "code",
   "execution_count": 132,
   "metadata": {},
   "outputs": [],
   "source": [
    "# Credit:\n",
    "# https://towardsdatascience.com/how-to-split-a-tensorflow-dataset-into-train-validation-and-test-sets-526c8dd29438\n",
    "def get_dataset_partitions_tf(ds, ds_size, train_split=0.8, val_split=0.1, test_split=0.1, shuffle=True, shuffle_size=10000):\n",
    "    assert (train_split + test_split + val_split) == 1\n",
    "    \n",
    "    if shuffle:\n",
    "        # Specify seed to always have the same split distribution between runs\n",
    "        ds = ds.shuffle(shuffle_size, seed=12)\n",
    "    \n",
    "    train_size = int(train_split * ds_size)\n",
    "    val_size = int(val_split * ds_size)\n",
    "    \n",
    "    train_ds = ds.take(train_size)    \n",
    "    val_ds = ds.skip(train_size).take(val_size)\n",
    "    test_ds = ds.skip(train_size).skip(val_size)\n",
    "    \n",
    "    return train_ds, val_ds, test_ds"
   ]
  },
  {
   "cell_type": "code",
   "execution_count": 133,
   "metadata": {},
   "outputs": [],
   "source": [
    "train_dataset, val_dataset, test_dataset = get_dataset_partitions_tf(tf_dataset, tf_dataset.cardinality().numpy())"
   ]
  },
  {
   "cell_type": "code",
   "execution_count": 134,
   "metadata": {},
   "outputs": [
    {
     "name": "stdout",
     "output_type": "stream",
     "text": [
      "Train Data Set Size: 16\n",
      "Validation Data Set Size: 2\n",
      "Test Data Set Size: 2\n"
     ]
    }
   ],
   "source": [
    "print(f\"Train Data Set Size: {train_dataset.cardinality().numpy()}\")\n",
    "print(f\"Validation Data Set Size: {val_dataset.cardinality().numpy()}\")\n",
    "print(f\"Test Data Set Size: {test_dataset.cardinality().numpy()}\")"
   ]
  },
  {
   "cell_type": "markdown",
   "metadata": {},
   "source": [
    "Set up tf.data pipeline"
   ]
  },
  {
   "cell_type": "code",
   "execution_count": 135,
   "metadata": {},
   "outputs": [
    {
     "ename": "ValueError",
     "evalue": "in user code:\n\n    C:\\Users\\dvdme\\OneDrive\\Dokumente\\cvia_course\\cvia_semester_project\\retinanet_keras_example.py:290 preprocess_data  *\n        bbox = swap_xy(sample[\"objects\"][\"bbox\"])\n    C:\\Users\\dvdme\\OneDrive\\Dokumente\\cvia_course\\cvia_semester_project\\retinanet_keras_example.py:21 swap_xy  *\n        return tf.stack([boxes[:, 1], boxes[:, 0], boxes[:, 3], boxes[:, 2]], axis=-1)\n    D:\\Programs\\Anaconda\\lib\\site-packages\\tensorflow\\python\\util\\dispatch.py:201 wrapper\n        return target(*args, **kwargs)\n    D:\\Programs\\Anaconda\\lib\\site-packages\\tensorflow\\python\\ops\\array_ops.py:1013 _slice_helper\n        return strided_slice(\n    D:\\Programs\\Anaconda\\lib\\site-packages\\tensorflow\\python\\util\\dispatch.py:201 wrapper\n        return target(*args, **kwargs)\n    D:\\Programs\\Anaconda\\lib\\site-packages\\tensorflow\\python\\ops\\array_ops.py:1186 strided_slice\n        op = gen_array_ops.strided_slice(\n    D:\\Programs\\Anaconda\\lib\\site-packages\\tensorflow\\python\\ops\\gen_array_ops.py:10346 strided_slice\n        _, _, _op, _outputs = _op_def_library._apply_op_helper(\n    D:\\Programs\\Anaconda\\lib\\site-packages\\tensorflow\\python\\framework\\op_def_library.py:742 _apply_op_helper\n        op = g._create_op_internal(op_type_name, inputs, dtypes=None,\n    D:\\Programs\\Anaconda\\lib\\site-packages\\tensorflow\\python\\framework\\func_graph.py:591 _create_op_internal\n        return super(FuncGraph, self)._create_op_internal(  # pylint: disable=protected-access\n    D:\\Programs\\Anaconda\\lib\\site-packages\\tensorflow\\python\\framework\\ops.py:3477 _create_op_internal\n        ret = Operation(\n    D:\\Programs\\Anaconda\\lib\\site-packages\\tensorflow\\python\\framework\\ops.py:1974 __init__\n        self._c_op = _create_c_op(self._graph, node_def, inputs,\n    D:\\Programs\\Anaconda\\lib\\site-packages\\tensorflow\\python\\framework\\ops.py:1815 _create_c_op\n        raise ValueError(str(e))\n\n    ValueError: Index out of range using input dim 1; input has only 1 dims for '{{node strided_slice}} = StridedSlice[Index=DT_INT32, T=DT_INT64, begin_mask=1, ellipsis_mask=0, end_mask=1, new_axis_mask=0, shrink_axis_mask=2](args_4, strided_slice/stack, strided_slice/stack_1, strided_slice/stack_2)' with input shapes: [4], [2], [2], [2] and with computed input tensors: input[3] = <1 1>.\n",
     "output_type": "error",
     "traceback": [
      "\u001b[1;31m---------------------------------------------------------------------------\u001b[0m",
      "\u001b[1;31mValueError\u001b[0m                                Traceback (most recent call last)",
      "\u001b[1;32m~\\AppData\\Local\\Temp/ipykernel_15944/877746301.py\u001b[0m in \u001b[0;36m<module>\u001b[1;34m\u001b[0m\n\u001b[0;32m      3\u001b[0m \u001b[1;32mexcept\u001b[0m\u001b[1;33m:\u001b[0m\u001b[1;33m\u001b[0m\u001b[1;33m\u001b[0m\u001b[0m\n\u001b[0;32m      4\u001b[0m     \u001b[0mautotune\u001b[0m \u001b[1;33m=\u001b[0m \u001b[0mtf\u001b[0m\u001b[1;33m.\u001b[0m\u001b[0mdata\u001b[0m\u001b[1;33m.\u001b[0m\u001b[0mexperimental\u001b[0m\u001b[1;33m.\u001b[0m\u001b[0mAUTOTUNE\u001b[0m\u001b[1;33m\u001b[0m\u001b[1;33m\u001b[0m\u001b[0m\n\u001b[1;32m----> 5\u001b[1;33m \u001b[0mtrain_dataset\u001b[0m \u001b[1;33m=\u001b[0m \u001b[0mtrain_dataset\u001b[0m\u001b[1;33m.\u001b[0m\u001b[0mmap\u001b[0m\u001b[1;33m(\u001b[0m\u001b[0mpreprocess_data\u001b[0m\u001b[1;33m,\u001b[0m \u001b[0mnum_parallel_calls\u001b[0m\u001b[1;33m=\u001b[0m\u001b[0mautotune\u001b[0m\u001b[1;33m)\u001b[0m\u001b[1;33m\u001b[0m\u001b[1;33m\u001b[0m\u001b[0m\n\u001b[0m\u001b[0;32m      6\u001b[0m \u001b[0mtrain_dataset\u001b[0m \u001b[1;33m=\u001b[0m \u001b[0mtrain_dataset\u001b[0m\u001b[1;33m.\u001b[0m\u001b[0mshuffle\u001b[0m\u001b[1;33m(\u001b[0m\u001b[1;36m8\u001b[0m \u001b[1;33m*\u001b[0m \u001b[0mbatch_size\u001b[0m\u001b[1;33m)\u001b[0m\u001b[1;33m\u001b[0m\u001b[1;33m\u001b[0m\u001b[0m\n\u001b[0;32m      7\u001b[0m train_dataset = train_dataset.padded_batch(\n",
      "\u001b[1;32mD:\\Programs\\Anaconda\\lib\\site-packages\\tensorflow\\python\\data\\ops\\dataset_ops.py\u001b[0m in \u001b[0;36mmap\u001b[1;34m(self, map_func, num_parallel_calls, deterministic)\u001b[0m\n\u001b[0;32m   1695\u001b[0m       \u001b[1;32mreturn\u001b[0m \u001b[0mMapDataset\u001b[0m\u001b[1;33m(\u001b[0m\u001b[0mself\u001b[0m\u001b[1;33m,\u001b[0m \u001b[0mmap_func\u001b[0m\u001b[1;33m,\u001b[0m \u001b[0mpreserve_cardinality\u001b[0m\u001b[1;33m=\u001b[0m\u001b[1;32mTrue\u001b[0m\u001b[1;33m)\u001b[0m\u001b[1;33m\u001b[0m\u001b[1;33m\u001b[0m\u001b[0m\n\u001b[0;32m   1696\u001b[0m     \u001b[1;32melse\u001b[0m\u001b[1;33m:\u001b[0m\u001b[1;33m\u001b[0m\u001b[1;33m\u001b[0m\u001b[0m\n\u001b[1;32m-> 1697\u001b[1;33m       return ParallelMapDataset(\n\u001b[0m\u001b[0;32m   1698\u001b[0m           \u001b[0mself\u001b[0m\u001b[1;33m,\u001b[0m\u001b[1;33m\u001b[0m\u001b[1;33m\u001b[0m\u001b[0m\n\u001b[0;32m   1699\u001b[0m           \u001b[0mmap_func\u001b[0m\u001b[1;33m,\u001b[0m\u001b[1;33m\u001b[0m\u001b[1;33m\u001b[0m\u001b[0m\n",
      "\u001b[1;32mD:\\Programs\\Anaconda\\lib\\site-packages\\tensorflow\\python\\data\\ops\\dataset_ops.py\u001b[0m in \u001b[0;36m__init__\u001b[1;34m(self, input_dataset, map_func, num_parallel_calls, deterministic, use_inter_op_parallelism, preserve_cardinality, use_legacy_function)\u001b[0m\n\u001b[0;32m   4078\u001b[0m     \u001b[0mself\u001b[0m\u001b[1;33m.\u001b[0m\u001b[0m_input_dataset\u001b[0m \u001b[1;33m=\u001b[0m \u001b[0minput_dataset\u001b[0m\u001b[1;33m\u001b[0m\u001b[1;33m\u001b[0m\u001b[0m\n\u001b[0;32m   4079\u001b[0m     \u001b[0mself\u001b[0m\u001b[1;33m.\u001b[0m\u001b[0m_use_inter_op_parallelism\u001b[0m \u001b[1;33m=\u001b[0m \u001b[0muse_inter_op_parallelism\u001b[0m\u001b[1;33m\u001b[0m\u001b[1;33m\u001b[0m\u001b[0m\n\u001b[1;32m-> 4080\u001b[1;33m     self._map_func = StructuredFunctionWrapper(\n\u001b[0m\u001b[0;32m   4081\u001b[0m         \u001b[0mmap_func\u001b[0m\u001b[1;33m,\u001b[0m\u001b[1;33m\u001b[0m\u001b[1;33m\u001b[0m\u001b[0m\n\u001b[0;32m   4082\u001b[0m         \u001b[0mself\u001b[0m\u001b[1;33m.\u001b[0m\u001b[0m_transformation_name\u001b[0m\u001b[1;33m(\u001b[0m\u001b[1;33m)\u001b[0m\u001b[1;33m,\u001b[0m\u001b[1;33m\u001b[0m\u001b[1;33m\u001b[0m\u001b[0m\n",
      "\u001b[1;32mD:\\Programs\\Anaconda\\lib\\site-packages\\tensorflow\\python\\data\\ops\\dataset_ops.py\u001b[0m in \u001b[0;36m__init__\u001b[1;34m(self, func, transformation_name, dataset, input_classes, input_shapes, input_types, input_structure, add_to_graph, use_legacy_function, defun_kwargs)\u001b[0m\n\u001b[0;32m   3369\u001b[0m       \u001b[1;32mwith\u001b[0m \u001b[0mtracking\u001b[0m\u001b[1;33m.\u001b[0m\u001b[0mresource_tracker_scope\u001b[0m\u001b[1;33m(\u001b[0m\u001b[0mresource_tracker\u001b[0m\u001b[1;33m)\u001b[0m\u001b[1;33m:\u001b[0m\u001b[1;33m\u001b[0m\u001b[1;33m\u001b[0m\u001b[0m\n\u001b[0;32m   3370\u001b[0m         \u001b[1;31m# TODO(b/141462134): Switch to using garbage collection.\u001b[0m\u001b[1;33m\u001b[0m\u001b[1;33m\u001b[0m\u001b[1;33m\u001b[0m\u001b[0m\n\u001b[1;32m-> 3371\u001b[1;33m         \u001b[0mself\u001b[0m\u001b[1;33m.\u001b[0m\u001b[0m_function\u001b[0m \u001b[1;33m=\u001b[0m \u001b[0mwrapper_fn\u001b[0m\u001b[1;33m.\u001b[0m\u001b[0mget_concrete_function\u001b[0m\u001b[1;33m(\u001b[0m\u001b[1;33m)\u001b[0m\u001b[1;33m\u001b[0m\u001b[1;33m\u001b[0m\u001b[0m\n\u001b[0m\u001b[0;32m   3372\u001b[0m         \u001b[1;32mif\u001b[0m \u001b[0madd_to_graph\u001b[0m\u001b[1;33m:\u001b[0m\u001b[1;33m\u001b[0m\u001b[1;33m\u001b[0m\u001b[0m\n\u001b[0;32m   3373\u001b[0m           \u001b[0mself\u001b[0m\u001b[1;33m.\u001b[0m\u001b[0m_function\u001b[0m\u001b[1;33m.\u001b[0m\u001b[0madd_to_graph\u001b[0m\u001b[1;33m(\u001b[0m\u001b[0mops\u001b[0m\u001b[1;33m.\u001b[0m\u001b[0mget_default_graph\u001b[0m\u001b[1;33m(\u001b[0m\u001b[1;33m)\u001b[0m\u001b[1;33m)\u001b[0m\u001b[1;33m\u001b[0m\u001b[1;33m\u001b[0m\u001b[0m\n",
      "\u001b[1;32mD:\\Programs\\Anaconda\\lib\\site-packages\\tensorflow\\python\\eager\\function.py\u001b[0m in \u001b[0;36mget_concrete_function\u001b[1;34m(self, *args, **kwargs)\u001b[0m\n\u001b[0;32m   2936\u001b[0m       \u001b[1;33m**\u001b[0m\u001b[0mkwargs\u001b[0m\u001b[1;33m:\u001b[0m \u001b[0minputs\u001b[0m \u001b[0mto\u001b[0m \u001b[0mspecialize\u001b[0m \u001b[0mon\u001b[0m\u001b[1;33m.\u001b[0m\u001b[1;33m\u001b[0m\u001b[1;33m\u001b[0m\u001b[0m\n\u001b[0;32m   2937\u001b[0m     \"\"\"\n\u001b[1;32m-> 2938\u001b[1;33m     graph_function = self._get_concrete_function_garbage_collected(\n\u001b[0m\u001b[0;32m   2939\u001b[0m         *args, **kwargs)\n\u001b[0;32m   2940\u001b[0m     \u001b[0mgraph_function\u001b[0m\u001b[1;33m.\u001b[0m\u001b[0m_garbage_collector\u001b[0m\u001b[1;33m.\u001b[0m\u001b[0mrelease\u001b[0m\u001b[1;33m(\u001b[0m\u001b[1;33m)\u001b[0m  \u001b[1;31m# pylint: disable=protected-access\u001b[0m\u001b[1;33m\u001b[0m\u001b[1;33m\u001b[0m\u001b[0m\n",
      "\u001b[1;32mD:\\Programs\\Anaconda\\lib\\site-packages\\tensorflow\\python\\eager\\function.py\u001b[0m in \u001b[0;36m_get_concrete_function_garbage_collected\u001b[1;34m(self, *args, **kwargs)\u001b[0m\n\u001b[0;32m   2904\u001b[0m       \u001b[0margs\u001b[0m\u001b[1;33m,\u001b[0m \u001b[0mkwargs\u001b[0m \u001b[1;33m=\u001b[0m \u001b[1;32mNone\u001b[0m\u001b[1;33m,\u001b[0m \u001b[1;32mNone\u001b[0m\u001b[1;33m\u001b[0m\u001b[1;33m\u001b[0m\u001b[0m\n\u001b[0;32m   2905\u001b[0m     \u001b[1;32mwith\u001b[0m \u001b[0mself\u001b[0m\u001b[1;33m.\u001b[0m\u001b[0m_lock\u001b[0m\u001b[1;33m:\u001b[0m\u001b[1;33m\u001b[0m\u001b[1;33m\u001b[0m\u001b[0m\n\u001b[1;32m-> 2906\u001b[1;33m       \u001b[0mgraph_function\u001b[0m\u001b[1;33m,\u001b[0m \u001b[0margs\u001b[0m\u001b[1;33m,\u001b[0m \u001b[0mkwargs\u001b[0m \u001b[1;33m=\u001b[0m \u001b[0mself\u001b[0m\u001b[1;33m.\u001b[0m\u001b[0m_maybe_define_function\u001b[0m\u001b[1;33m(\u001b[0m\u001b[0margs\u001b[0m\u001b[1;33m,\u001b[0m \u001b[0mkwargs\u001b[0m\u001b[1;33m)\u001b[0m\u001b[1;33m\u001b[0m\u001b[1;33m\u001b[0m\u001b[0m\n\u001b[0m\u001b[0;32m   2907\u001b[0m       \u001b[0mseen_names\u001b[0m \u001b[1;33m=\u001b[0m \u001b[0mset\u001b[0m\u001b[1;33m(\u001b[0m\u001b[1;33m)\u001b[0m\u001b[1;33m\u001b[0m\u001b[1;33m\u001b[0m\u001b[0m\n\u001b[0;32m   2908\u001b[0m       captured = object_identity.ObjectIdentitySet(\n",
      "\u001b[1;32mD:\\Programs\\Anaconda\\lib\\site-packages\\tensorflow\\python\\eager\\function.py\u001b[0m in \u001b[0;36m_maybe_define_function\u001b[1;34m(self, args, kwargs)\u001b[0m\n\u001b[0;32m   3211\u001b[0m \u001b[1;33m\u001b[0m\u001b[0m\n\u001b[0;32m   3212\u001b[0m       \u001b[0mself\u001b[0m\u001b[1;33m.\u001b[0m\u001b[0m_function_cache\u001b[0m\u001b[1;33m.\u001b[0m\u001b[0mmissed\u001b[0m\u001b[1;33m.\u001b[0m\u001b[0madd\u001b[0m\u001b[1;33m(\u001b[0m\u001b[0mcall_context_key\u001b[0m\u001b[1;33m)\u001b[0m\u001b[1;33m\u001b[0m\u001b[1;33m\u001b[0m\u001b[0m\n\u001b[1;32m-> 3213\u001b[1;33m       \u001b[0mgraph_function\u001b[0m \u001b[1;33m=\u001b[0m \u001b[0mself\u001b[0m\u001b[1;33m.\u001b[0m\u001b[0m_create_graph_function\u001b[0m\u001b[1;33m(\u001b[0m\u001b[0margs\u001b[0m\u001b[1;33m,\u001b[0m \u001b[0mkwargs\u001b[0m\u001b[1;33m)\u001b[0m\u001b[1;33m\u001b[0m\u001b[1;33m\u001b[0m\u001b[0m\n\u001b[0m\u001b[0;32m   3214\u001b[0m       \u001b[0mself\u001b[0m\u001b[1;33m.\u001b[0m\u001b[0m_function_cache\u001b[0m\u001b[1;33m.\u001b[0m\u001b[0mprimary\u001b[0m\u001b[1;33m[\u001b[0m\u001b[0mcache_key\u001b[0m\u001b[1;33m]\u001b[0m \u001b[1;33m=\u001b[0m \u001b[0mgraph_function\u001b[0m\u001b[1;33m\u001b[0m\u001b[1;33m\u001b[0m\u001b[0m\n\u001b[0;32m   3215\u001b[0m       \u001b[1;32mreturn\u001b[0m \u001b[0mgraph_function\u001b[0m\u001b[1;33m,\u001b[0m \u001b[0margs\u001b[0m\u001b[1;33m,\u001b[0m \u001b[0mkwargs\u001b[0m\u001b[1;33m\u001b[0m\u001b[1;33m\u001b[0m\u001b[0m\n",
      "\u001b[1;32mD:\\Programs\\Anaconda\\lib\\site-packages\\tensorflow\\python\\eager\\function.py\u001b[0m in \u001b[0;36m_create_graph_function\u001b[1;34m(self, args, kwargs, override_flat_arg_shapes)\u001b[0m\n\u001b[0;32m   3063\u001b[0m     \u001b[0marg_names\u001b[0m \u001b[1;33m=\u001b[0m \u001b[0mbase_arg_names\u001b[0m \u001b[1;33m+\u001b[0m \u001b[0mmissing_arg_names\u001b[0m\u001b[1;33m\u001b[0m\u001b[1;33m\u001b[0m\u001b[0m\n\u001b[0;32m   3064\u001b[0m     graph_function = ConcreteFunction(\n\u001b[1;32m-> 3065\u001b[1;33m         func_graph_module.func_graph_from_py_func(\n\u001b[0m\u001b[0;32m   3066\u001b[0m             \u001b[0mself\u001b[0m\u001b[1;33m.\u001b[0m\u001b[0m_name\u001b[0m\u001b[1;33m,\u001b[0m\u001b[1;33m\u001b[0m\u001b[1;33m\u001b[0m\u001b[0m\n\u001b[0;32m   3067\u001b[0m             \u001b[0mself\u001b[0m\u001b[1;33m.\u001b[0m\u001b[0m_python_function\u001b[0m\u001b[1;33m,\u001b[0m\u001b[1;33m\u001b[0m\u001b[1;33m\u001b[0m\u001b[0m\n",
      "\u001b[1;32mD:\\Programs\\Anaconda\\lib\\site-packages\\tensorflow\\python\\framework\\func_graph.py\u001b[0m in \u001b[0;36mfunc_graph_from_py_func\u001b[1;34m(name, python_func, args, kwargs, signature, func_graph, autograph, autograph_options, add_control_dependencies, arg_names, op_return_value, collections, capture_by_value, override_flat_arg_shapes)\u001b[0m\n\u001b[0;32m    984\u001b[0m         \u001b[0m_\u001b[0m\u001b[1;33m,\u001b[0m \u001b[0moriginal_func\u001b[0m \u001b[1;33m=\u001b[0m \u001b[0mtf_decorator\u001b[0m\u001b[1;33m.\u001b[0m\u001b[0munwrap\u001b[0m\u001b[1;33m(\u001b[0m\u001b[0mpython_func\u001b[0m\u001b[1;33m)\u001b[0m\u001b[1;33m\u001b[0m\u001b[1;33m\u001b[0m\u001b[0m\n\u001b[0;32m    985\u001b[0m \u001b[1;33m\u001b[0m\u001b[0m\n\u001b[1;32m--> 986\u001b[1;33m       \u001b[0mfunc_outputs\u001b[0m \u001b[1;33m=\u001b[0m \u001b[0mpython_func\u001b[0m\u001b[1;33m(\u001b[0m\u001b[1;33m*\u001b[0m\u001b[0mfunc_args\u001b[0m\u001b[1;33m,\u001b[0m \u001b[1;33m**\u001b[0m\u001b[0mfunc_kwargs\u001b[0m\u001b[1;33m)\u001b[0m\u001b[1;33m\u001b[0m\u001b[1;33m\u001b[0m\u001b[0m\n\u001b[0m\u001b[0;32m    987\u001b[0m \u001b[1;33m\u001b[0m\u001b[0m\n\u001b[0;32m    988\u001b[0m       \u001b[1;31m# invariant: `func_outputs` contains only Tensors, CompositeTensors,\u001b[0m\u001b[1;33m\u001b[0m\u001b[1;33m\u001b[0m\u001b[1;33m\u001b[0m\u001b[0m\n",
      "\u001b[1;32mD:\\Programs\\Anaconda\\lib\\site-packages\\tensorflow\\python\\data\\ops\\dataset_ops.py\u001b[0m in \u001b[0;36mwrapper_fn\u001b[1;34m(*args)\u001b[0m\n\u001b[0;32m   3362\u001b[0m           attributes=defun_kwargs)\n\u001b[0;32m   3363\u001b[0m       \u001b[1;32mdef\u001b[0m \u001b[0mwrapper_fn\u001b[0m\u001b[1;33m(\u001b[0m\u001b[1;33m*\u001b[0m\u001b[0margs\u001b[0m\u001b[1;33m)\u001b[0m\u001b[1;33m:\u001b[0m  \u001b[1;31m# pylint: disable=missing-docstring\u001b[0m\u001b[1;33m\u001b[0m\u001b[1;33m\u001b[0m\u001b[0m\n\u001b[1;32m-> 3364\u001b[1;33m         \u001b[0mret\u001b[0m \u001b[1;33m=\u001b[0m \u001b[0m_wrapper_helper\u001b[0m\u001b[1;33m(\u001b[0m\u001b[1;33m*\u001b[0m\u001b[0margs\u001b[0m\u001b[1;33m)\u001b[0m\u001b[1;33m\u001b[0m\u001b[1;33m\u001b[0m\u001b[0m\n\u001b[0m\u001b[0;32m   3365\u001b[0m         \u001b[0mret\u001b[0m \u001b[1;33m=\u001b[0m \u001b[0mstructure\u001b[0m\u001b[1;33m.\u001b[0m\u001b[0mto_tensor_list\u001b[0m\u001b[1;33m(\u001b[0m\u001b[0mself\u001b[0m\u001b[1;33m.\u001b[0m\u001b[0m_output_structure\u001b[0m\u001b[1;33m,\u001b[0m \u001b[0mret\u001b[0m\u001b[1;33m)\u001b[0m\u001b[1;33m\u001b[0m\u001b[1;33m\u001b[0m\u001b[0m\n\u001b[0;32m   3366\u001b[0m         \u001b[1;32mreturn\u001b[0m \u001b[1;33m[\u001b[0m\u001b[0mops\u001b[0m\u001b[1;33m.\u001b[0m\u001b[0mconvert_to_tensor\u001b[0m\u001b[1;33m(\u001b[0m\u001b[0mt\u001b[0m\u001b[1;33m)\u001b[0m \u001b[1;32mfor\u001b[0m \u001b[0mt\u001b[0m \u001b[1;32min\u001b[0m \u001b[0mret\u001b[0m\u001b[1;33m]\u001b[0m\u001b[1;33m\u001b[0m\u001b[1;33m\u001b[0m\u001b[0m\n",
      "\u001b[1;32mD:\\Programs\\Anaconda\\lib\\site-packages\\tensorflow\\python\\data\\ops\\dataset_ops.py\u001b[0m in \u001b[0;36m_wrapper_helper\u001b[1;34m(*args)\u001b[0m\n\u001b[0;32m   3297\u001b[0m         \u001b[0mnested_args\u001b[0m \u001b[1;33m=\u001b[0m \u001b[1;33m(\u001b[0m\u001b[0mnested_args\u001b[0m\u001b[1;33m,\u001b[0m\u001b[1;33m)\u001b[0m\u001b[1;33m\u001b[0m\u001b[1;33m\u001b[0m\u001b[0m\n\u001b[0;32m   3298\u001b[0m \u001b[1;33m\u001b[0m\u001b[0m\n\u001b[1;32m-> 3299\u001b[1;33m       \u001b[0mret\u001b[0m \u001b[1;33m=\u001b[0m \u001b[0mautograph\u001b[0m\u001b[1;33m.\u001b[0m\u001b[0mtf_convert\u001b[0m\u001b[1;33m(\u001b[0m\u001b[0mfunc\u001b[0m\u001b[1;33m,\u001b[0m \u001b[0mag_ctx\u001b[0m\u001b[1;33m)\u001b[0m\u001b[1;33m(\u001b[0m\u001b[1;33m*\u001b[0m\u001b[0mnested_args\u001b[0m\u001b[1;33m)\u001b[0m\u001b[1;33m\u001b[0m\u001b[1;33m\u001b[0m\u001b[0m\n\u001b[0m\u001b[0;32m   3300\u001b[0m       \u001b[1;31m# If `func` returns a list of tensors, `nest.flatten()` and\u001b[0m\u001b[1;33m\u001b[0m\u001b[1;33m\u001b[0m\u001b[1;33m\u001b[0m\u001b[0m\n\u001b[0;32m   3301\u001b[0m       \u001b[1;31m# `ops.convert_to_tensor()` would conspire to attempt to stack\u001b[0m\u001b[1;33m\u001b[0m\u001b[1;33m\u001b[0m\u001b[1;33m\u001b[0m\u001b[0m\n",
      "\u001b[1;32mD:\\Programs\\Anaconda\\lib\\site-packages\\tensorflow\\python\\autograph\\impl\\api.py\u001b[0m in \u001b[0;36mwrapper\u001b[1;34m(*args, **kwargs)\u001b[0m\n\u001b[0;32m    256\u001b[0m       \u001b[1;32mexcept\u001b[0m \u001b[0mException\u001b[0m \u001b[1;32mas\u001b[0m \u001b[0me\u001b[0m\u001b[1;33m:\u001b[0m  \u001b[1;31m# pylint:disable=broad-except\u001b[0m\u001b[1;33m\u001b[0m\u001b[1;33m\u001b[0m\u001b[0m\n\u001b[0;32m    257\u001b[0m         \u001b[1;32mif\u001b[0m \u001b[0mhasattr\u001b[0m\u001b[1;33m(\u001b[0m\u001b[0me\u001b[0m\u001b[1;33m,\u001b[0m \u001b[1;34m'ag_error_metadata'\u001b[0m\u001b[1;33m)\u001b[0m\u001b[1;33m:\u001b[0m\u001b[1;33m\u001b[0m\u001b[1;33m\u001b[0m\u001b[0m\n\u001b[1;32m--> 258\u001b[1;33m           \u001b[1;32mraise\u001b[0m \u001b[0me\u001b[0m\u001b[1;33m.\u001b[0m\u001b[0mag_error_metadata\u001b[0m\u001b[1;33m.\u001b[0m\u001b[0mto_exception\u001b[0m\u001b[1;33m(\u001b[0m\u001b[0me\u001b[0m\u001b[1;33m)\u001b[0m\u001b[1;33m\u001b[0m\u001b[1;33m\u001b[0m\u001b[0m\n\u001b[0m\u001b[0;32m    259\u001b[0m         \u001b[1;32melse\u001b[0m\u001b[1;33m:\u001b[0m\u001b[1;33m\u001b[0m\u001b[1;33m\u001b[0m\u001b[0m\n\u001b[0;32m    260\u001b[0m           \u001b[1;32mraise\u001b[0m\u001b[1;33m\u001b[0m\u001b[1;33m\u001b[0m\u001b[0m\n",
      "\u001b[1;31mValueError\u001b[0m: in user code:\n\n    C:\\Users\\dvdme\\OneDrive\\Dokumente\\cvia_course\\cvia_semester_project\\retinanet_keras_example.py:290 preprocess_data  *\n        bbox = swap_xy(sample[\"objects\"][\"bbox\"])\n    C:\\Users\\dvdme\\OneDrive\\Dokumente\\cvia_course\\cvia_semester_project\\retinanet_keras_example.py:21 swap_xy  *\n        return tf.stack([boxes[:, 1], boxes[:, 0], boxes[:, 3], boxes[:, 2]], axis=-1)\n    D:\\Programs\\Anaconda\\lib\\site-packages\\tensorflow\\python\\util\\dispatch.py:201 wrapper\n        return target(*args, **kwargs)\n    D:\\Programs\\Anaconda\\lib\\site-packages\\tensorflow\\python\\ops\\array_ops.py:1013 _slice_helper\n        return strided_slice(\n    D:\\Programs\\Anaconda\\lib\\site-packages\\tensorflow\\python\\util\\dispatch.py:201 wrapper\n        return target(*args, **kwargs)\n    D:\\Programs\\Anaconda\\lib\\site-packages\\tensorflow\\python\\ops\\array_ops.py:1186 strided_slice\n        op = gen_array_ops.strided_slice(\n    D:\\Programs\\Anaconda\\lib\\site-packages\\tensorflow\\python\\ops\\gen_array_ops.py:10346 strided_slice\n        _, _, _op, _outputs = _op_def_library._apply_op_helper(\n    D:\\Programs\\Anaconda\\lib\\site-packages\\tensorflow\\python\\framework\\op_def_library.py:742 _apply_op_helper\n        op = g._create_op_internal(op_type_name, inputs, dtypes=None,\n    D:\\Programs\\Anaconda\\lib\\site-packages\\tensorflow\\python\\framework\\func_graph.py:591 _create_op_internal\n        return super(FuncGraph, self)._create_op_internal(  # pylint: disable=protected-access\n    D:\\Programs\\Anaconda\\lib\\site-packages\\tensorflow\\python\\framework\\ops.py:3477 _create_op_internal\n        ret = Operation(\n    D:\\Programs\\Anaconda\\lib\\site-packages\\tensorflow\\python\\framework\\ops.py:1974 __init__\n        self._c_op = _create_c_op(self._graph, node_def, inputs,\n    D:\\Programs\\Anaconda\\lib\\site-packages\\tensorflow\\python\\framework\\ops.py:1815 _create_c_op\n        raise ValueError(str(e))\n\n    ValueError: Index out of range using input dim 1; input has only 1 dims for '{{node strided_slice}} = StridedSlice[Index=DT_INT32, T=DT_INT64, begin_mask=1, ellipsis_mask=0, end_mask=1, new_axis_mask=0, shrink_axis_mask=2](args_4, strided_slice/stack, strided_slice/stack_1, strided_slice/stack_2)' with input shapes: [4], [2], [2], [2] and with computed input tensors: input[3] = <1 1>.\n"
     ]
    }
   ],
   "source": [
    "try:\n",
    "    autotune = tf.data.AUTOTUNE     \n",
    "except:\n",
    "    autotune = tf.data.experimental.AUTOTUNE \n",
    "train_dataset = train_dataset.map(preprocess_data, num_parallel_calls=autotune)\n",
    "train_dataset = train_dataset.shuffle(8 * batch_size)\n",
    "train_dataset = train_dataset.padded_batch(\n",
    "    batch_size=batch_size, padding_values=(0.0, 1e-8, -1), drop_remainder=True\n",
    ")\n",
    "train_dataset = train_dataset.map(\n",
    "    label_encoder.encode_batch, num_parallel_calls=autotune\n",
    ")\n",
    "train_dataset = train_dataset.apply(tf.data.experimental.ignore_errors())\n",
    "train_dataset = train_dataset.prefetch(autotune)\n",
    "\n",
    "val_dataset = val_dataset.map(preprocess_data, num_parallel_calls=autotune)\n",
    "val_dataset = val_dataset.padded_batch(\n",
    "    batch_size=1, padding_values=(0.0, 1e-8, -1), drop_remainder=True\n",
    ")\n",
    "val_dataset = val_dataset.map(label_encoder.encode_batch, num_parallel_calls=autotune)\n",
    "val_dataset = val_dataset.apply(tf.data.experimental.ignore_errors())\n",
    "val_dataset = val_dataset.prefetch(autotune)"
   ]
  },
  {
   "cell_type": "code",
   "execution_count": null,
   "metadata": {},
   "outputs": [],
   "source": []
  },
  {
   "cell_type": "code",
   "execution_count": 5,
   "metadata": {},
   "outputs": [],
   "source": [
    "from gast import gast"
   ]
  },
  {
   "cell_type": "code",
   "execution_count": null,
   "metadata": {},
   "outputs": [],
   "source": []
  }
 ],
 "metadata": {
  "kernelspec": {
   "display_name": "Python 3 (ipykernel)",
   "language": "python",
   "name": "python3"
  },
  "language_info": {
   "codemirror_mode": {
    "name": "ipython",
    "version": 3
   },
   "file_extension": ".py",
   "mimetype": "text/x-python",
   "name": "python",
   "nbconvert_exporter": "python",
   "pygments_lexer": "ipython3",
   "version": "3.8.12"
  }
 },
 "nbformat": 4,
 "nbformat_minor": 4
}
