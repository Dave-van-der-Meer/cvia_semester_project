{
 "cells": [
  {
   "cell_type": "code",
   "execution_count": 1,
   "id": "db55ae01-5d66-4ca5-b353-3451b21b9480",
   "metadata": {},
   "outputs": [
    {
     "name": "stderr",
     "output_type": "stream",
     "text": [
      "2021-11-20 21:02:42.533041: I tensorflow/stream_executor/platform/default/dso_loader.cc:44] Successfully opened dynamic library libcudart.so.10.1\n"
     ]
    }
   ],
   "source": [
    "import os\n",
    "import numpy as np\n",
    "import pandas as pd\n",
    "import matplotlib.pyplot as plt\n",
    "%matplotlib inline\n",
    "%config InlineBackend.figure_format = 'retina'\n",
    "\n",
    "import tensorflow as tf\n",
    "from tensorflow.keras.models import Sequential\n",
    "from tensorflow.keras.layers import Dense, Conv2D, MaxPooling2D, Flatten, Dropout, BatchNormalization\n",
    "from tensorflow.keras.optimizers import Adam\n",
    "from tensorflow.keras.utils import to_categorical\n",
    "from tensorflow.keras.preprocessing.image import ImageDataGenerator\n",
    "from tensorflow.keras.callbacks import EarlyStopping"
   ]
  },
  {
   "cell_type": "code",
   "execution_count": 2,
   "id": "050b0719-0b00-492a-a288-8aa27b988a6b",
   "metadata": {},
   "outputs": [
    {
     "name": "stdout",
     "output_type": "stream",
     "text": [
      "2.1.0 [PhysicalDevice(name='/physical_device:CPU:0', device_type='CPU'), PhysicalDevice(name='/physical_device:GPU:0', device_type='GPU'), PhysicalDevice(name='/physical_device:GPU:1', device_type='GPU')]\n"
     ]
    },
    {
     "name": "stderr",
     "output_type": "stream",
     "text": [
      "2021-11-20 21:03:02.670434: I tensorflow/stream_executor/platform/default/dso_loader.cc:44] Successfully opened dynamic library libcuda.so.1\n",
      "2021-11-20 21:03:02.790200: I tensorflow/core/common_runtime/gpu/gpu_device.cc:1555] Found device 0 with properties: \n",
      "pciBusID: 0000:1d:00.0 name: Tesla V100-SXM2-16GB computeCapability: 7.0\n",
      "coreClock: 1.53GHz coreCount: 80 deviceMemorySize: 15.78GiB deviceMemoryBandwidth: 836.37GiB/s\n",
      "2021-11-20 21:03:02.791059: I tensorflow/core/common_runtime/gpu/gpu_device.cc:1555] Found device 1 with properties: \n",
      "pciBusID: 0000:1e:00.0 name: Tesla V100-SXM2-16GB computeCapability: 7.0\n",
      "coreClock: 1.53GHz coreCount: 80 deviceMemorySize: 15.78GiB deviceMemoryBandwidth: 836.37GiB/s\n",
      "2021-11-20 21:03:02.791109: I tensorflow/stream_executor/platform/default/dso_loader.cc:44] Successfully opened dynamic library libcudart.so.10.1\n",
      "2021-11-20 21:03:02.890939: I tensorflow/stream_executor/platform/default/dso_loader.cc:44] Successfully opened dynamic library libcublas.so.10\n",
      "2021-11-20 21:03:02.999541: I tensorflow/stream_executor/platform/default/dso_loader.cc:44] Successfully opened dynamic library libcufft.so.10\n",
      "2021-11-20 21:03:03.072621: I tensorflow/stream_executor/platform/default/dso_loader.cc:44] Successfully opened dynamic library libcurand.so.10\n",
      "2021-11-20 21:03:03.175605: I tensorflow/stream_executor/platform/default/dso_loader.cc:44] Successfully opened dynamic library libcusolver.so.10\n",
      "2021-11-20 21:03:03.237996: I tensorflow/stream_executor/platform/default/dso_loader.cc:44] Successfully opened dynamic library libcusparse.so.10\n",
      "2021-11-20 21:03:03.360045: I tensorflow/stream_executor/platform/default/dso_loader.cc:44] Successfully opened dynamic library libcudnn.so.7\n",
      "2021-11-20 21:03:03.363333: I tensorflow/core/common_runtime/gpu/gpu_device.cc:1697] Adding visible gpu devices: 0, 1\n"
     ]
    }
   ],
   "source": [
    "print(tf.__version__, tf.config.list_physical_devices())"
   ]
  },
  {
   "cell_type": "code",
   "execution_count": 3,
   "id": "9c79c159-b8d7-4138-9c48-41021e4013c9",
   "metadata": {},
   "outputs": [],
   "source": [
    "labels = pd.read_csv('new_csv.txt')"
   ]
  },
  {
   "cell_type": "code",
   "execution_count": 4,
   "id": "346c8ff9-6233-414f-84de-75e8caf68678",
   "metadata": {},
   "outputs": [
    {
     "name": "stdout",
     "output_type": "stream",
     "text": [
      "Found 27006 images belonging to 11 classes.\n",
      "Found 3000 images belonging to 11 classes.\n"
     ]
    }
   ],
   "source": [
    "# create a data generator\n",
    "datagen = ImageDataGenerator(validation_split=0.1)\n",
    "# load and iterate training dataset\n",
    "train_it = datagen.flow_from_directory(\n",
    "    '../master-data/train_small/rgb', \n",
    "    target_size=(256, 256),\n",
    "    subset=\"training\", \n",
    "    class_mode=\"sparse\",\n",
    "    color_mode=\"grayscale\",\n",
    "    batch_size=32)\n",
    "\n",
    "val_it = datagen.flow_from_directory(\n",
    "    '../master-data/train_small/rgb', \n",
    "    target_size=(256, 256), \n",
    "    subset=\"validation\", \n",
    "    class_mode=\"sparse\",\n",
    "    color_mode=\"grayscale\",\n",
    "    batch_size=32)"
   ]
  },
  {
   "cell_type": "code",
   "execution_count": 5,
   "id": "edfc30c9-e063-4d47-a4cb-e28c9d189c55",
   "metadata": {},
   "outputs": [
    {
     "data": {
      "text/plain": [
       "{'AcrimSat': 0,\n",
       " 'Aquarius': 1,\n",
       " 'Aura': 2,\n",
       " 'Calipso': 3,\n",
       " 'Cloudsat': 4,\n",
       " 'CubeSat': 5,\n",
       " 'Debris': 6,\n",
       " 'Jason': 7,\n",
       " 'Sentinel-6': 8,\n",
       " 'TRMM': 9,\n",
       " 'Terra': 10}"
      ]
     },
     "execution_count": 5,
     "metadata": {},
     "output_type": "execute_result"
    }
   ],
   "source": [
    "train_it.class_indices"
   ]
  },
  {
   "cell_type": "code",
   "execution_count": 6,
   "id": "8cbad539-460a-4678-899b-79fa219b3f62",
   "metadata": {},
   "outputs": [
    {
     "name": "stdout",
     "output_type": "stream",
     "text": [
      "Batch shape=(32, 256, 256, 1), min=0.000, max=255.000\n",
      "Batch shape=(32,), min=0.000, max=10.000\n"
     ]
    }
   ],
   "source": [
    "# confirm the iterator works\n",
    "batchX, batchy = train_it.next()\n",
    "print('Batch shape=%s, min=%.3f, max=%.3f' % (batchX.shape, batchX.min(), batchX.max()))\n",
    "print('Batch shape=%s, min=%.3f, max=%.3f' % (batchy.shape, batchy.min(), batchy.max()))"
   ]
  },
  {
   "cell_type": "code",
   "execution_count": 11,
   "id": "1823bcc4-18d8-4e36-b084-58c21a5c099d",
   "metadata": {
    "tags": []
   },
   "outputs": [
    {
     "name": "stdout",
     "output_type": "stream",
     "text": [
      "Model: \"sequential_3\"\n",
      "_________________________________________________________________\n",
      "Layer (type)                 Output Shape              Param #   \n",
      "=================================================================\n",
      "conv2d_8 (Conv2D)            (None, 254, 254, 32)      320       \n",
      "_________________________________________________________________\n",
      "max_pooling2d_4 (MaxPooling2 (None, 127, 127, 32)      0         \n",
      "_________________________________________________________________\n",
      "conv2d_9 (Conv2D)            (None, 125, 125, 32)      9248      \n",
      "_________________________________________________________________\n",
      "flatten_3 (Flatten)          (None, 500000)            0         \n",
      "_________________________________________________________________\n",
      "dense_6 (Dense)              (None, 128)               64000128  \n",
      "_________________________________________________________________\n",
      "dropout_2 (Dropout)          (None, 128)               0         \n",
      "_________________________________________________________________\n",
      "dense_7 (Dense)              (None, 64)                8256      \n",
      "_________________________________________________________________\n",
      "dense_8 (Dense)              (None, 11)                715       \n",
      "=================================================================\n",
      "Total params: 64,018,667\n",
      "Trainable params: 64,018,667\n",
      "Non-trainable params: 0\n",
      "_________________________________________________________________\n"
     ]
    }
   ],
   "source": [
    "# Initialising the CNN\n",
    "model = Sequential()\n",
    "# Convolution\n",
    "model.add(Conv2D(32, (3, 3), input_shape = (256, 256, 1), activation = 'relu'))\n",
    "# Pooling\n",
    "model.add(MaxPooling2D(pool_size = (2, 2)))\n",
    "# Convolution\n",
    "model.add(Conv2D(32, (3, 3), input_shape = (64, 64, 1), activation = 'relu'))\n",
    "# Flattening\n",
    "model.add(Flatten())\n",
    "# Full connection\n",
    "model.add(Dense(units = 128, activation = 'relu'))\n",
    "# Add Dropout to prevent overfitting\n",
    "model.add(Dropout(0.5))\n",
    "model.add(Dense(units = 64, activation = 'relu'))\n",
    "model.add(Dense(units = 11, activation = 'softmax'))\n",
    "# Compiling the CNN\n",
    "model.compile(optimizer = 'adam', loss = 'sparse_categorical_crossentropy', metrics = ['accuracy'])\n",
    "model.summary()"
   ]
  },
  {
   "cell_type": "code",
   "execution_count": 12,
   "id": "f32721bf-b3e8-450c-bd61-b8203bec60fc",
   "metadata": {
    "tags": []
   },
   "outputs": [
    {
     "name": "stdout",
     "output_type": "stream",
     "text": [
      "WARNING:tensorflow:sample_weight modes were coerced from\n",
      "  ...\n",
      "    to  \n",
      "  ['...']\n",
      "WARNING:tensorflow:sample_weight modes were coerced from\n",
      "  ...\n",
      "    to  \n",
      "  ['...']\n",
      "Train for 844 steps, validate for 94 steps\n",
      "Epoch 1/40\n"
     ]
    },
    {
     "name": "stderr",
     "output_type": "stream",
     "text": [
      "2021-11-20 21:05:17.628894: W tensorflow/core/kernels/data/generator_dataset_op.cc:103] Error occurred when finalizing GeneratorDataset iterator: Cancelled: Operation was cancelled\n"
     ]
    },
    {
     "name": "stdout",
     "output_type": "stream",
     "text": [
      "844/844 [==============================] - 1703s 2s/step - loss: 6.5842 - accuracy: 0.1813 - val_loss: 2.3455 - val_accuracy: 0.2113\n",
      "Epoch 2/40\n",
      "844/844 [==============================] - 1719s 2s/step - loss: 2.0630 - accuracy: 0.2642 - val_loss: 2.4350 - val_accuracy: 0.2493\n",
      "Epoch 3/40\n",
      "844/844 [==============================] - 1653s 2s/step - loss: 1.8138 - accuracy: 0.3616 - val_loss: 2.6877 - val_accuracy: 0.2687\n",
      "Epoch 4/40\n",
      "844/844 [==============================] - 1685s 2s/step - loss: 1.4845 - accuracy: 0.4815 - val_loss: 2.6728 - val_accuracy: 0.3023\n",
      "Epoch 5/40\n",
      "844/844 [==============================] - 1739s 2s/step - loss: 1.2190 - accuracy: 0.5757 - val_loss: 2.6446 - val_accuracy: 0.2870\n",
      "Epoch 00005: early stopping\n"
     ]
    }
   ],
   "source": [
    "early_stop = EarlyStopping(monitor='val_loss', mode='min', verbose=1, patience=4)\n",
    "model_checkpoint = tf.keras.callbacks.ModelCheckpoint('best_cnn.h5', save_best_only=True)\n",
    "# Fitting the model\n",
    "classifier = model.fit_generator(train_it,\n",
    "                         epochs = 40,\n",
    "                         validation_data = val_it,    \n",
    "                         callbacks=[early_stop, model_checkpoint])"
   ]
  },
  {
   "cell_type": "code",
   "execution_count": 13,
   "id": "166f8259-30a1-40bf-b271-6a5be936f2bc",
   "metadata": {
    "tags": []
   },
   "outputs": [
    {
     "name": "stdout",
     "output_type": "stream",
     "text": [
      "WARNING:tensorflow:From /opt/apps/resif/iris/2019b/gpu/software/TensorFlow/2.1.0-fosscuda-2019b-Python-3.7.4/lib/python3.7/site-packages/tensorflow_core/python/ops/resource_variable_ops.py:1786: calling BaseResourceVariable.__init__ (from tensorflow.python.ops.resource_variable_ops) with constraint is deprecated and will be removed in a future version.\n",
      "Instructions for updating:\n",
      "If using Keras pass *_constraint arguments to layers.\n"
     ]
    },
    {
     "name": "stderr",
     "output_type": "stream",
     "text": [
      "2021-11-20 23:26:57.821655: W tensorflow/python/util/util.cc:319] Sets are not currently considered sequences, but this may change in the future, so consider avoiding using them.\n"
     ]
    },
    {
     "name": "stdout",
     "output_type": "stream",
     "text": [
      "INFO:tensorflow:Assets written to: my_model/assets\n",
      "Saved model to disk\n"
     ]
    }
   ],
   "source": [
    "# save the model\n",
    "model.save(\"my_model\")\n",
    "print(\"Saved model to disk\")"
   ]
  },
  {
   "cell_type": "code",
   "execution_count": 14,
   "id": "0c199082-e15a-48cc-9371-d76ca7b1df49",
   "metadata": {},
   "outputs": [
    {
     "data": {
      "text/html": [
       "<div>\n",
       "<style scoped>\n",
       "    .dataframe tbody tr th:only-of-type {\n",
       "        vertical-align: middle;\n",
       "    }\n",
       "\n",
       "    .dataframe tbody tr th {\n",
       "        vertical-align: top;\n",
       "    }\n",
       "\n",
       "    .dataframe thead th {\n",
       "        text-align: right;\n",
       "    }\n",
       "</style>\n",
       "<table border=\"1\" class=\"dataframe\">\n",
       "  <thead>\n",
       "    <tr style=\"text-align: right;\">\n",
       "      <th></th>\n",
       "      <th>loss</th>\n",
       "      <th>accuracy</th>\n",
       "      <th>val_loss</th>\n",
       "      <th>val_accuracy</th>\n",
       "    </tr>\n",
       "  </thead>\n",
       "  <tbody>\n",
       "    <tr>\n",
       "      <th>0</th>\n",
       "      <td>6.544078</td>\n",
       "      <td>0.181293</td>\n",
       "      <td>2.345460</td>\n",
       "      <td>0.211333</td>\n",
       "    </tr>\n",
       "    <tr>\n",
       "      <th>1</th>\n",
       "      <td>2.062965</td>\n",
       "      <td>0.264164</td>\n",
       "      <td>2.434974</td>\n",
       "      <td>0.249333</td>\n",
       "    </tr>\n",
       "    <tr>\n",
       "      <th>2</th>\n",
       "      <td>1.813846</td>\n",
       "      <td>0.361586</td>\n",
       "      <td>2.687722</td>\n",
       "      <td>0.268667</td>\n",
       "    </tr>\n",
       "    <tr>\n",
       "      <th>3</th>\n",
       "      <td>1.484486</td>\n",
       "      <td>0.481486</td>\n",
       "      <td>2.672754</td>\n",
       "      <td>0.302333</td>\n",
       "    </tr>\n",
       "    <tr>\n",
       "      <th>4</th>\n",
       "      <td>1.218989</td>\n",
       "      <td>0.575724</td>\n",
       "      <td>2.644624</td>\n",
       "      <td>0.287000</td>\n",
       "    </tr>\n",
       "  </tbody>\n",
       "</table>\n",
       "</div>"
      ],
      "text/plain": [
       "       loss  accuracy  val_loss  val_accuracy\n",
       "0  6.544078  0.181293  2.345460      0.211333\n",
       "1  2.062965  0.264164  2.434974      0.249333\n",
       "2  1.813846  0.361586  2.687722      0.268667\n",
       "3  1.484486  0.481486  2.672754      0.302333\n",
       "4  1.218989  0.575724  2.644624      0.287000"
      ]
     },
     "execution_count": 14,
     "metadata": {},
     "output_type": "execute_result"
    }
   ],
   "source": [
    "df = pd.DataFrame(model.history.history)\n",
    "df"
   ]
  },
  {
   "cell_type": "code",
   "execution_count": 15,
   "id": "3c1ff74c-ef7d-4ceb-b238-49eb5f3019b6",
   "metadata": {},
   "outputs": [
    {
     "data": {
      "image/png": "[encoded data removed]",
      "text/plain": [
       "<Figure size 432x288 with 1 Axes>"
      ]
     },
     "metadata": {
      "image/png": {
       "height": 277,
       "width": 376
      },
      "needs_background": "light"
     },
     "output_type": "display_data"
    }
   ],
   "source": [
    "plt.plot(df['loss'], color='red', label='Loss')\n",
    "plt.plot(df['val_loss'], color='green', label='Validation Loss')\n",
    "plt.title('Multiclass Classification Model Loss')\n",
    "plt.ylabel('Loss')\n",
    "plt.xlabel('Epoch')\n",
    "plt.legend()\n",
    "plt.show()"
   ]
  },
  {
   "cell_type": "code",
   "execution_count": 16,
   "id": "07f237da-2cb4-448a-96a9-694d49b594e7",
   "metadata": {},
   "outputs": [
    {
     "data": {
      "image/png": "[encoded data removed]",
      "text/plain": [
       "<Figure size 432x288 with 1 Axes>"
      ]
     },
     "metadata": {
      "image/png": {
       "height": 277,
       "width": 392
      },
      "needs_background": "light"
     },
     "output_type": "display_data"
    }
   ],
   "source": [
    "plt.plot(df['accuracy'], color='magenta', label='Accuracy')\n",
    "plt.plot(df['val_accuracy'], color='blue', label='Validation Accuracy')\n",
    "plt.title('Multiclass Classification Model Accuracy')\n",
    "plt.ylabel('Accuracy')\n",
    "plt.xlabel('Epoch')\n",
    "plt.legend()\n",
    "plt.show()"
   ]
  },
  {
   "cell_type": "code",
   "execution_count": null,
   "id": "b5f748ab-68f2-48f4-bfbf-20ce3f76305e",
   "metadata": {},
   "outputs": [],
   "source": []
  }
 ],
 "metadata": {
  "kernelspec": {
   "display_name": "Python 3 (ipykernel)",
   "language": "python",
   "name": "python3"
  },
  "language_info": {
   "codemirror_mode": {
    "name": "ipython",
    "version": 3
   },
   "file_extension": ".py",
   "mimetype": "text/x-python",
   "name": "python",
   "nbconvert_exporter": "python",
   "pygments_lexer": "ipython3",
   "version": "3.7.4"
  },
  "toc-autonumbering": false,
  "toc-showcode": false
 },
 "nbformat": 4,
 "nbformat_minor": 5
}
