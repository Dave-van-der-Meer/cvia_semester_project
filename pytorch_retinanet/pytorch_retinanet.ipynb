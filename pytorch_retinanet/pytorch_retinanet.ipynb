{
 "cells": [
  {
   "cell_type": "markdown",
   "metadata": {
    "id": "Pzdhsbz2D75a"
   },
   "source": [
    "# CVIA Image Detection on SPARK dataset"
   ]
  },
  {
   "cell_type": "markdown",
   "metadata": {
    "id": "XG9cyjg3D75e"
   },
   "source": [
    "`dataset.labels.iloc[1]`\n",
    "\n",
    "Output:\n",
    "```\n",
    "class                            Terra\n",
    "id                                6536\n",
    "image              image_06536_img.png\n",
    "depth            image_06536_depth.png\n",
    "bbox              [476, 469, 542, 497]\n",
    "illumination                  0.244364\n",
    "rotation        [0.5, -0.6, -0.4, 0.5]\n",
    "translation        [-3.0, -2.3, 147.9]\n",
    "Name: 1, dtype: object\n",
    "```"
   ]
  },
  {
   "cell_type": "markdown",
   "metadata": {
    "id": "BCB0YI1xD75g"
   },
   "source": [
    "## Pytorch model preparation"
   ]
  },
  {
   "cell_type": "markdown",
   "metadata": {
    "id": "_nd7mYylD75h"
   },
   "source": [
    "Source: https://github.com/yhenon/pytorch-retinanet"
   ]
  },
  {
   "cell_type": "markdown",
   "metadata": {},
   "source": [
    "**Use with:**\n",
    "\n",
    "```bash\n",
    "cd C:\\Users\\dvdme\\OneDrive\\Dokumente\\cvia_course\\cvia_semester_project\\pytorch_retinanet\n",
    "```\n",
    "\n",
    "**Run without validation:**\n",
    "    \n",
    "```bash\n",
    "python train.py --dataset csv --csv_train D:/Downloads/semester_project/project_files/pytorch_annotations_small.csv --csv_classes D:/Downloads/semester_project/project_files/classes.csv\n",
    "```\n",
    "\n",
    "**Or with validation:**\n",
    "\n",
    "```bash\n",
    "python train.py --dataset csv --csv_train D:/Downloads/semester_project/project_files/pytorch_annotations_small_train.csv --csv_classes D:/Downloads/semester_project/project_files/classes.csv --csv_val D:/Downloads/semester_project/project_files/pytorch_annotations_small_val.csv\n",
    "```"
   ]
  },
  {
   "cell_type": "markdown",
   "metadata": {},
   "source": [
    "**Run valitation:**\n",
    "\n",
    "```bash\n",
    "python csv_validation.py --csv_annotations_path D:/Downloads/semester_project/project_files/pytorch_annotations_small_val.csv --model_path csv_retinanet_90.pt --images_path D:/Downloads/semester_project/project_files/csv_annotations_small_val.csv --class_list_path D:/Downloads/semester_project/project_files/classes.csv  --iou_threshold 0.5\n",
    "```"
   ]
  },
  {
   "cell_type": "markdown",
   "metadata": {},
   "source": [
    "## Visualisation\n",
    "\n",
    "```bash\n",
    "python visualize.py --dataset csv --csv_classes D:/Downloads/semester_project/project_files/classes.csv --csv_val D:/Downloads/semester_project/project_files/pytorch_annotations_small_val.csv --model csv_retinanet_30.pt\n",
    "```"
   ]
  },
  {
   "cell_type": "markdown",
   "metadata": {},
   "source": [
    "Error appearing when launching anythin:\n",
    "\n",
    "```\n",
    "UserWarning: Failed to load image Python extension: Could not find module 'D:\\Programs\\Anaconda\\envs\\pytorch_retinanet\\Lib\\site-packages\\torchvision\\image.pyd' (or one of its dependencies). Try using the full path with constructor syntax.\n",
    "  warn(f\"Failed to load image Python extension: {e}\")\n",
    "```\n",
    "\n",
    "Error when `batch_size` is larger than 1:\n",
    "```\n",
    "numpy.core._exceptions._ArrayMemoryError: Unable to allocate 8.46 MiB for an array with shape (608, 608, 3) and data type float64\n",
    "```"
   ]
  },
  {
   "cell_type": "code",
   "execution_count": 1,
   "metadata": {
    "id": "eLfZS-OPD75j"
   },
   "outputs": [
    {
     "name": "stdout",
     "output_type": "stream",
     "text": [
      "Found Pytorch\n"
     ]
    },
    {
     "name": "stderr",
     "output_type": "stream",
     "text": [
      "D:\\Programs\\Anaconda\\envs\\pytorch_retinanet\\lib\\site-packages\\torchvision\\io\\image.py:11: UserWarning: Failed to load image Python extension: Could not find module 'D:\\Programs\\Anaconda\\envs\\pytorch_retinanet\\Lib\\site-packages\\torchvision\\image.pyd' (or one of its dependencies). Try using the full path with constructor syntax.\n",
      "  warn(f\"Failed to load image Python extension: {e}\")\n"
     ]
    }
   ],
   "source": [
    "from utils import SPARKDataset , PyTorchSparkDataset\n",
    "from matplotlib import pyplot as plt\n",
    "from random import randint\n",
    "\n",
    "import os\n",
    "import re\n",
    "import zipfile\n",
    "\n",
    "import numpy as np\n",
    "import torch\n",
    "\n",
    "import pandas as pd\n",
    "from skimage import io , img_as_uint\n",
    "import matplotlib.patches as mpatches"
   ]
  },
  {
   "cell_type": "code",
   "execution_count": 2,
   "metadata": {
    "id": "UrBehaocD75k"
   },
   "outputs": [
    {
     "name": "stdout",
     "output_type": "stream",
     "text": [
      "numpy version: 1.22.1\n",
      "pytorch version: 1.10.1+cu102\n",
      "pytorch version: 10.2\n"
     ]
    },
    {
     "data": {
      "text/plain": [
       "True"
      ]
     },
     "execution_count": 2,
     "metadata": {},
     "output_type": "execute_result"
    }
   ],
   "source": [
    "print(f\"numpy version: {np.__version__}\")\n",
    "print(f\"pytorch version: {torch.__version__}\")\n",
    "print(f\"pytorch version: {torch.version.cuda}\")\n",
    "torch.cuda.is_available()"
   ]
  },
  {
   "cell_type": "code",
   "execution_count": 5,
   "metadata": {},
   "outputs": [
    {
     "name": "stdout",
     "output_type": "stream",
     "text": [
      "ID of current CUDA device: 0\n",
      "Name of current CUDA device: NVIDIA GeForce GTX 1060\n"
     ]
    }
   ],
   "source": [
    "cuda_id = torch.cuda.current_device()\n",
    "print(f\"ID of current CUDA device: {torch.cuda.current_device()}\")\n",
    "print(f\"Name of current CUDA device: {torch.cuda.get_device_name(cuda_id)}\")"
   ]
  },
  {
   "cell_type": "markdown",
   "metadata": {
    "id": "KnZTqlCfD75q"
   },
   "source": [
    "### Load dataset with utils.py"
   ]
  },
  {
   "cell_type": "code",
   "execution_count": 15,
   "metadata": {
    "id": "HIgnM_ESD75v"
   },
   "outputs": [],
   "source": [
    "# set up the path to a local copy of the SPARK dataset, labels csv files should be in the same directory.\n",
    "\n",
    "dataset_root_dir = 'D:/Downloads/semester_project/project_files/train_small/'\n",
    "\n",
    "split = 'rgb'\n",
    "test_length = 30000\n",
    "dataset = SPARKDataset(root_dir=dataset_root_dir,split=split)\n",
    "\n",
    "\n",
    "# class,id,image,depth,bbox,illumination,rotation,translation\n",
    "labels_class = []\n",
    "labels_id = []\n",
    "labels_image = []\n",
    "image_path = []\n",
    "labels_depth = []\n",
    "labels_bbox_xmin = []\n",
    "labels_bbox_ymin = []\n",
    "labels_bbox_xmax = []\n",
    "labels_bbox_ymax = []\n",
    "\n",
    "\n",
    "labels_bbox = []\n",
    "\n",
    "labels_illumination = []\n",
    "\n",
    "\n",
    "for i in range(test_length):\n",
    "    labels_class.append(dataset.labels.iloc[i]['class'])\n",
    "    labels_id.append(dataset.labels.iloc[i]['id'])\n",
    "    labels_image.append(dataset.labels.iloc[i]['image'])\n",
    "    labels_depth.append(dataset.labels.iloc[i]['depth'])\n",
    "    labels_illumination.append(dataset.labels.iloc[i]['illumination'])\n",
    "    \n",
    "    labels_bbox_xmin.append(dataset.get_bbox(i)[0])\n",
    "    labels_bbox_ymin.append(dataset.get_bbox(i)[1])\n",
    "    labels_bbox_xmax.append(dataset.get_bbox(i)[2])\n",
    "    labels_bbox_ymax.append(dataset.get_bbox(i)[3])\n",
    "    \n",
    "    labels_bbox.append([[dataset.get_bbox(i)[0], \n",
    "                        dataset.get_bbox(i)[1], \n",
    "                        dataset.get_bbox(i)[2], \n",
    "                        dataset.get_bbox(i)[3]],])\n",
    "    image_path.append(os.path.join(dataset_root_dir, f\"rgb/{label_dataframe['class'][i]}/{label_dataframe['image'][i]}\"))\n",
    "\n",
    "    \n",
    "# data = {'class': labels_class,\n",
    "#         'id': labels_id,\n",
    "#         'image': labels_image,\n",
    "#         'depth': labels_depth,\n",
    "#         'illumination': labels_illumination,\n",
    "#        }\n",
    "\n",
    "# bbox_data = {'xmin': labels_bbox_xmin,\n",
    "#              'ymin': labels_bbox_ymin,\n",
    "#              'xmax': labels_bbox_xmax,\n",
    "#              'ymax': labels_bbox_ymax,\n",
    "#             }\n",
    "\n",
    "data = {'image_path': image_path,\n",
    "        'xmin': labels_bbox_xmin,\n",
    "        'ymin': labels_bbox_ymin,\n",
    "        'xmax': labels_bbox_xmax,\n",
    "        'ymax': labels_bbox_ymax,\n",
    "        'class': labels_class,\n",
    "       }\n",
    "\n",
    "my_dataframe = pd.DataFrame(data)"
   ]
  },
  {
   "cell_type": "code",
   "execution_count": 16,
   "metadata": {
    "id": "d72mwnJtD75w",
    "scrolled": true
   },
   "outputs": [
    {
     "name": "stdout",
     "output_type": "stream",
     "text": [
      "len(my_dataframe): 30000\n",
      "\n"
     ]
    },
    {
     "data": {
      "text/html": [
       "<div>\n",
       "<style scoped>\n",
       "    .dataframe tbody tr th:only-of-type {\n",
       "        vertical-align: middle;\n",
       "    }\n",
       "\n",
       "    .dataframe tbody tr th {\n",
       "        vertical-align: top;\n",
       "    }\n",
       "\n",
       "    .dataframe thead th {\n",
       "        text-align: right;\n",
       "    }\n",
       "</style>\n",
       "<table border=\"1\" class=\"dataframe\">\n",
       "  <thead>\n",
       "    <tr style=\"text-align: right;\">\n",
       "      <th></th>\n",
       "      <th>image</th>\n",
       "      <th>xmin</th>\n",
       "      <th>ymin</th>\n",
       "      <th>xmax</th>\n",
       "      <th>ymax</th>\n",
       "      <th>class</th>\n",
       "    </tr>\n",
       "  </thead>\n",
       "  <tbody>\n",
       "    <tr>\n",
       "      <th>0</th>\n",
       "      <td>D:/Downloads/semester_project/project_files/tr...</td>\n",
       "      <td>262</td>\n",
       "      <td>283</td>\n",
       "      <td>323</td>\n",
       "      <td>367</td>\n",
       "      <td>Cloudsat</td>\n",
       "    </tr>\n",
       "    <tr>\n",
       "      <th>1</th>\n",
       "      <td>D:/Downloads/semester_project/project_files/tr...</td>\n",
       "      <td>476</td>\n",
       "      <td>469</td>\n",
       "      <td>542</td>\n",
       "      <td>497</td>\n",
       "      <td>Terra</td>\n",
       "    </tr>\n",
       "    <tr>\n",
       "      <th>2</th>\n",
       "      <td>D:/Downloads/semester_project/project_files/tr...</td>\n",
       "      <td>520</td>\n",
       "      <td>445</td>\n",
       "      <td>584</td>\n",
       "      <td>516</td>\n",
       "      <td>Sentinel-6</td>\n",
       "    </tr>\n",
       "    <tr>\n",
       "      <th>3</th>\n",
       "      <td>D:/Downloads/semester_project/project_files/tr...</td>\n",
       "      <td>377</td>\n",
       "      <td>606</td>\n",
       "      <td>692</td>\n",
       "      <td>945</td>\n",
       "      <td>Sentinel-6</td>\n",
       "    </tr>\n",
       "    <tr>\n",
       "      <th>4</th>\n",
       "      <td>D:/Downloads/semester_project/project_files/tr...</td>\n",
       "      <td>523</td>\n",
       "      <td>421</td>\n",
       "      <td>560</td>\n",
       "      <td>464</td>\n",
       "      <td>CubeSat</td>\n",
       "    </tr>\n",
       "  </tbody>\n",
       "</table>\n",
       "</div>"
      ],
      "text/plain": [
       "                                               image  xmin  ymin  xmax  ymax  \\\n",
       "0  D:/Downloads/semester_project/project_files/tr...   262   283   323   367   \n",
       "1  D:/Downloads/semester_project/project_files/tr...   476   469   542   497   \n",
       "2  D:/Downloads/semester_project/project_files/tr...   520   445   584   516   \n",
       "3  D:/Downloads/semester_project/project_files/tr...   377   606   692   945   \n",
       "4  D:/Downloads/semester_project/project_files/tr...   523   421   560   464   \n",
       "\n",
       "        class  \n",
       "0    Cloudsat  \n",
       "1       Terra  \n",
       "2  Sentinel-6  \n",
       "3  Sentinel-6  \n",
       "4     CubeSat  "
      ]
     },
     "execution_count": 16,
     "metadata": {},
     "output_type": "execute_result"
    }
   ],
   "source": [
    "print(f'len(my_dataframe): {len(my_dataframe)}')\n",
    "print()\n",
    "my_dataframe.head()"
   ]
  },
  {
   "cell_type": "code",
   "execution_count": 17,
   "metadata": {},
   "outputs": [],
   "source": [
    "my_dataframe.to_csv('D:/Downloads/semester_project/project_files/pytorch_annotations.csv', index=False, sep=',')"
   ]
  },
  {
   "cell_type": "code",
   "execution_count": 21,
   "metadata": {},
   "outputs": [
    {
     "data": {
      "text/html": [
       "<div>\n",
       "<style scoped>\n",
       "    .dataframe tbody tr th:only-of-type {\n",
       "        vertical-align: middle;\n",
       "    }\n",
       "\n",
       "    .dataframe tbody tr th {\n",
       "        vertical-align: top;\n",
       "    }\n",
       "\n",
       "    .dataframe thead th {\n",
       "        text-align: right;\n",
       "    }\n",
       "</style>\n",
       "<table border=\"1\" class=\"dataframe\">\n",
       "  <thead>\n",
       "    <tr style=\"text-align: right;\">\n",
       "      <th></th>\n",
       "      <th>class</th>\n",
       "      <th>id</th>\n",
       "    </tr>\n",
       "  </thead>\n",
       "  <tbody>\n",
       "    <tr>\n",
       "      <th>0</th>\n",
       "      <td>AcrimSat</td>\n",
       "      <td>0</td>\n",
       "    </tr>\n",
       "    <tr>\n",
       "      <th>1</th>\n",
       "      <td>Aquarius</td>\n",
       "      <td>1</td>\n",
       "    </tr>\n",
       "    <tr>\n",
       "      <th>2</th>\n",
       "      <td>Aura</td>\n",
       "      <td>2</td>\n",
       "    </tr>\n",
       "    <tr>\n",
       "      <th>3</th>\n",
       "      <td>Calipso</td>\n",
       "      <td>3</td>\n",
       "    </tr>\n",
       "    <tr>\n",
       "      <th>4</th>\n",
       "      <td>Cloudsat</td>\n",
       "      <td>4</td>\n",
       "    </tr>\n",
       "    <tr>\n",
       "      <th>5</th>\n",
       "      <td>CubeSat</td>\n",
       "      <td>5</td>\n",
       "    </tr>\n",
       "    <tr>\n",
       "      <th>6</th>\n",
       "      <td>Debris</td>\n",
       "      <td>6</td>\n",
       "    </tr>\n",
       "    <tr>\n",
       "      <th>7</th>\n",
       "      <td>Jason</td>\n",
       "      <td>7</td>\n",
       "    </tr>\n",
       "    <tr>\n",
       "      <th>8</th>\n",
       "      <td>Sentinel-6</td>\n",
       "      <td>8</td>\n",
       "    </tr>\n",
       "    <tr>\n",
       "      <th>9</th>\n",
       "      <td>Terra</td>\n",
       "      <td>9</td>\n",
       "    </tr>\n",
       "    <tr>\n",
       "      <th>10</th>\n",
       "      <td>TRMM</td>\n",
       "      <td>10</td>\n",
       "    </tr>\n",
       "  </tbody>\n",
       "</table>\n",
       "</div>"
      ],
      "text/plain": [
       "         class  id\n",
       "0     AcrimSat   0\n",
       "1     Aquarius   1\n",
       "2         Aura   2\n",
       "3      Calipso   3\n",
       "4     Cloudsat   4\n",
       "5      CubeSat   5\n",
       "6       Debris   6\n",
       "7        Jason   7\n",
       "8   Sentinel-6   8\n",
       "9        Terra   9\n",
       "10        TRMM  10"
      ]
     },
     "execution_count": 21,
     "metadata": {},
     "output_type": "execute_result"
    }
   ],
   "source": [
    "classes = ['AcrimSat',\n",
    "           'Aquarius', \n",
    "           'Aura',\n",
    "           'Calipso', \n",
    "           'Cloudsat', \n",
    "           'CubeSat',\n",
    "           'Debris', \n",
    "           'Jason', \n",
    "           'Sentinel-6', \n",
    "           'Terra',\n",
    "           'TRMM']\n",
    "ids = [0, 1, 2, 3, 4, 5, 6, 7, 8, 9, 10]\n",
    "\n",
    "class_mapping = {'class': classes,\n",
    "                 'id': ids,\n",
    "                }\n",
    "\n",
    "class_frame = pd.DataFrame(class_mapping)\n",
    "class_frame.to_csv('D:/Downloads/semester_project/project_files/classes.csv', index=False, sep=',')\n",
    "class_frame"
   ]
  },
  {
   "cell_type": "markdown",
   "metadata": {
    "id": "-tRZ3zsoD75y"
   },
   "source": [
    "### Dataframe slicing"
   ]
  },
  {
   "cell_type": "code",
   "execution_count": 17,
   "metadata": {
    "id": "6rqjQ0R-D75z"
   },
   "outputs": [],
   "source": [
    "def visualize(i, label_dataframe, bbox_dataframe, root_dir, size=(15,15),  ax=None, image_type='rgb'):\n",
    "\n",
    "        \"\"\" Visualizing image, with ground truth pose with axes projected to training image. \"\"\"\n",
    "\n",
    "        if ax is None:\n",
    "            ax = plt.gca()\n",
    "            \n",
    "        image_path = os.path.join(root_dir, f\"rgb/{label_dataframe['class'][i]}/{label_dataframe['image'][i]}\")\n",
    "        depth_path = os.path.join(root_dir, f\"depth/{label_dataframe['class'][i]}/{label_dataframe['depth'][i]}\")\n",
    "        \n",
    "        min_x = bbox_dataframe[0][i][0]\n",
    "        min_y = bbox_dataframe[0][i][1]\n",
    "        max_x = bbox_dataframe[0][i][2]\n",
    "        max_y = bbox_dataframe[0][i][3]\n",
    "        \n",
    "        image = io.imread(image_path)\n",
    "        depth = io.imread(depth_path)\n",
    "\n",
    "        if image_type=='rgb':\n",
    "            ax.imshow(image,vmin=0, vmax=255)\n",
    "            my_color = 'red'\n",
    "            im_scale = 1\n",
    "        elif image_type=='depth':\n",
    "            ax.imshow(depth, vmin=0, vmax=255)\n",
    "            my_color = 'red'\n",
    "            im_scale = 0.25\n",
    "        else:\n",
    "            print('Incorrect parameter: image_type. Exiting function!')\n",
    "            return\n",
    "        \n",
    "\n",
    "        rect = mpatches.Rectangle((im_scale*min_y, im_scale*min_x), im_scale*(max_y - min_y), im_scale*(max_x - min_x),\n",
    "                                    fill=False, edgecolor=my_color, linewidth=2)\n",
    "\n",
    "        ax.add_patch(rect)\n",
    "        \n",
    "        #label = f\"{list(self.class_map.keys())[list(self.class_map.values()).index(img_class)]}\"\n",
    "        \n",
    "        #ax.text(min_y, min_x-20, label,color='white',fontsize=15)\n",
    "        ax.set_axis_off()\n",
    "\n",
    "        return \n",
    "root_dir = 'D:/Downloads/semester_project/project_files/train_small/'"
   ]
  },
  {
   "cell_type": "code",
   "execution_count": null,
   "metadata": {
    "id": "QaMkRcHWD750"
   },
   "outputs": [],
   "source": []
  },
  {
   "cell_type": "markdown",
   "metadata": {
    "id": "Yfzy6Je3D750"
   },
   "source": [
    "## Create model conform dataset"
   ]
  },
  {
   "cell_type": "markdown",
   "metadata": {
    "id": "QPoOPPY1D751"
   },
   "source": [
    "#### Generate a dataframe slice with the images"
   ]
  },
  {
   "cell_type": "code",
   "execution_count": 14,
   "metadata": {
    "id": "PXO9glKAD752"
   },
   "outputs": [],
   "source": [
    "# def generate_images_frame(label_dataframe, root_dir):\n",
    "#     images = []\n",
    "#     image_names = []\n",
    "#     for i in range(len(label_dataframe['image'])):\n",
    "#             image_path = os.path.join(root_dir, f\"rgb/{label_dataframe['class'][i]}/{label_dataframe['image'][i]}\")\n",
    "# #             images.append(io.imread(image_path))\n",
    "#             image_names.append(image_path)#(\"{label_dataframe['class'][i]}/{label_dataframe['image'][i]}\")\n",
    "#     return images, image_names\n",
    "\n",
    "# dataset_images, image_names = generate_images_frame(label_dataframe, root_dir)\n",
    "\n",
    "# def convert_ids(id_frame):\n",
    "#     converted_ids = []\n",
    "#     for element in id_frame:\n",
    "#       converted_ids.append(np.array([element]))\n",
    "#     return np.array(converted_ids)"
   ]
  },
  {
   "cell_type": "markdown",
   "metadata": {
    "id": "Q-MIYH6gD752"
   },
   "source": [
    "#### Generate the tensorflow dataframe with the respective fields"
   ]
  },
  {
   "cell_type": "code",
   "execution_count": 78,
   "metadata": {
    "id": "BR9BO_CxD753"
   },
   "outputs": [],
   "source": [
    "# for i in range(len(label_dataframe)):\n",
    "#     is_crowds.append(np.array(False))\n",
    "# #np.zeros(len(label_dataframe))\n",
    "\n",
    "# class_map =  {'AcrimSat':0, 'Aquarius':1, 'Aura':2, 'Calipso':3, 'Cloudsat':4, 'CubeSat':5,\n",
    "#                            'Debris' :6, 'Jason':7, 'Sentinel-6':8, 'Terra':9, 'TRMM':10}\n",
    "# remapped_labels = []\n",
    "# for i in range(len(label_dataframe)):\n",
    "#     remapped_labels.append(class_map[label_dataframe['class'][i]])\n",
    "# remapped_labels = np.int64(remapped_labels)\n",
    "\n",
    "# # Cast bbox to float\n",
    "# labels_bbox = np.array(labels_bbox)\n",
    "# labels_bbox = labels_bbox.astype(float)\n",
    "# labels_bbox = np.float32(labels_bbox)\n",
    "# labels_bbox = labels_bbox/1024 # may be wrong\n",
    "# # labels_bbox = np.linalg.norm(labels_bbox)\n",
    "\n",
    "# ## Remap to have an array of lists so that the variables can be read correctly with the indices\n",
    "# converted_ids = convert_ids(label_dataframe['id'])\n",
    "# remapped_labels = convert_ids(remapped_labels)\n",
    "\n",
    "# dataset_objects = {'bbox': labels_bbox,\n",
    "#                    'id': converted_ids,\n",
    "#                    'label': remapped_labels,\n",
    "#                   }\n",
    "\n",
    "# tf_input_data = {'image': image_names, \n",
    "#                  'image/filename': label_dataframe['image'], \n",
    "#                  'image/id': label_dataframe['id'],\n",
    "#                  'objects': dataset_objects\n",
    "#                  }"
   ]
  },
  {
   "cell_type": "code",
   "execution_count": 28,
   "metadata": {
    "id": "c5kpFYhpD755"
   },
   "outputs": [],
   "source": [
    "model_dir = 'D:/Downloads/semester_project/project_files/pytorch_model/'"
   ]
  },
  {
   "cell_type": "code",
   "execution_count": null,
   "metadata": {
    "id": "PdtGy6QcD75_"
   },
   "outputs": [],
   "source": []
  },
  {
   "cell_type": "code",
   "execution_count": null,
   "metadata": {
    "id": "Az68bd0LD76C"
   },
   "outputs": [],
   "source": []
  },
  {
   "cell_type": "markdown",
   "metadata": {
    "id": "bb4Wpwy941wp"
   },
   "source": [
    "##  LOAD AND APPLY MODEL"
   ]
  },
  {
   "cell_type": "code",
   "execution_count": null,
   "metadata": {},
   "outputs": [],
   "source": []
  }
 ],
 "metadata": {
  "colab": {
   "collapsed_sections": [],
   "name": "image_detection_model.ipynb",
   "provenance": []
  },
  "kernelspec": {
   "display_name": "Python 3 (ipykernel)",
   "language": "python",
   "name": "python3"
  },
  "language_info": {
   "codemirror_mode": {
    "name": "ipython",
    "version": 3
   },
   "file_extension": ".py",
   "mimetype": "text/x-python",
   "name": "python",
   "nbconvert_exporter": "python",
   "pygments_lexer": "ipython3",
   "version": "3.8.12"
  }
 },
 "nbformat": 4,
 "nbformat_minor": 1
}
