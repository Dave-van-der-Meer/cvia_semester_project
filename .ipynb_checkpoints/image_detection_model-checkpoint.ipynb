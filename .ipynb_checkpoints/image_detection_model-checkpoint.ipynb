{
 "cells": [
  {
   "cell_type": "markdown",
   "metadata": {},
   "source": [
    "# CVIA Image Detection on SPARK dataset"
   ]
  },
  {
   "cell_type": "code",
   "execution_count": 105,
   "metadata": {},
   "outputs": [
    {
     "data": {
      "text/plain": [
       "class                            Terra\n",
       "id                                6536\n",
       "image              image_06536_img.png\n",
       "depth            image_06536_depth.png\n",
       "bbox              [476, 469, 542, 497]\n",
       "illumination                  0.244364\n",
       "rotation        [0.5, -0.6, -0.4, 0.5]\n",
       "translation        [-3.0, -2.3, 147.9]\n",
       "Name: 1, dtype: object"
      ]
     },
     "execution_count": 105,
     "metadata": {},
     "output_type": "execute_result"
    }
   ],
   "source": [
    "dataset.labels.iloc[1]"
   ]
  },
  {
   "cell_type": "markdown",
   "metadata": {},
   "source": [
    "## Keras model"
   ]
  },
  {
   "cell_type": "markdown",
   "metadata": {},
   "source": [
    "Source: https://keras.io/examples/vision/retinanet/"
   ]
  },
  {
   "cell_type": "markdown",
   "metadata": {},
   "source": [
    "Tensorflow version: '2.3.0'"
   ]
  },
  {
   "cell_type": "code",
   "execution_count": 1,
   "metadata": {},
   "outputs": [],
   "source": [
    "from utils import SPARKDataset , PyTorchSparkDataset\n",
    "from matplotlib import pyplot as plt\n",
    "from random import randint\n",
    "\n",
    "import os\n",
    "import re\n",
    "import zipfile\n",
    "\n",
    "import numpy as np\n",
    "import tensorflow as tf\n",
    "from tensorflow import keras\n",
    "\n",
    "import pandas as pd\n",
    "from skimage import io , img_as_uint\n",
    "import matplotlib.patches as mpatches\n",
    "#import tensorflow_datasets as tfds"
   ]
  },
  {
   "cell_type": "code",
   "execution_count": 70,
   "metadata": {},
   "outputs": [],
   "source": [
    "# set up the path to a local copy of the SPARK dataset, labels csv files should be in the same directory.\n",
    "\n",
    "dataset_root_dir = 'D:/Downloads/semester_project/project_files/train_small/'#'./data/'\n",
    "#dataset_root_dir = '/run/media/dave/Volume/cvia_dataset/train_small/'\n",
    "split = 'rgb'\n",
    "test_length = 200\n",
    "dataset = SPARKDataset(root_dir=dataset_root_dir,split=split)"
   ]
  },
  {
   "cell_type": "code",
   "execution_count": 3,
   "metadata": {},
   "outputs": [],
   "source": [
    "def swap_xy(boxes):\n",
    "    return pd.concat([boxes.iloc[:, 1], boxes.iloc[:, 0], boxes.iloc[:, 3], boxes.iloc[:, 2]], axis=1)\n",
    "\n",
    "def convert_to_xywh(boxes):\n",
    "    width = boxes.iloc[:,2] - boxes.iloc[:,0]\n",
    "    height = boxes.iloc[:,3] - boxes.iloc[:,1]\n",
    "    x = boxes.iloc[:,0] + width / 2.0\n",
    "    y = boxes.iloc[:,1] + height / 2.0\n",
    "    return pd.concat([x, y, width, height], axis=1)\n",
    "\n",
    "def convert_to_corners(boxes):\n",
    "    width = boxes.iloc[:,2]\n",
    "    height = boxes.iloc[:,3]\n",
    "    xmin = boxes.iloc[:,0] - width / 2.0\n",
    "    ymin = boxes.iloc[:,1] - height / 2.0\n",
    "    xmax = boxes.iloc[:,0] + width / 2.0\n",
    "    ymax = boxes.iloc[:,1] + height / 2.0\n",
    "    return pd.concat([xmin, ymin, xmax, ymax], axis=1)"
   ]
  },
  {
   "cell_type": "code",
   "execution_count": 4,
   "metadata": {},
   "outputs": [
    {
     "data": {
      "text/plain": [
       "(606, 692, 945)"
      ]
     },
     "execution_count": 4,
     "metadata": {},
     "output_type": "execute_result"
    }
   ],
   "source": [
    "dataset.get_bbox(3)[1:]"
   ]
  },
  {
   "cell_type": "code",
   "execution_count": 5,
   "metadata": {},
   "outputs": [
    {
     "data": {
      "text/plain": [
       "30000"
      ]
     },
     "execution_count": 5,
     "metadata": {},
     "output_type": "execute_result"
    }
   ],
   "source": [
    "len(dataset.labels)"
   ]
  },
  {
   "cell_type": "code",
   "execution_count": 6,
   "metadata": {},
   "outputs": [],
   "source": [
    "# class,id,image,depth,bbox,illumination,rotation,translation\n",
    "labels_class = []\n",
    "labels_id = []\n",
    "labels_image = []\n",
    "labels_depth = []\n",
    "labels_bbox_xmin = []\n",
    "labels_bbox_ymin = []\n",
    "labels_bbox_xmax = []\n",
    "labels_bbox_ymax = []\n",
    "\n",
    "labels_bbox_x = []\n",
    "labels_bbox_y = []\n",
    "labels_bbox_width = []\n",
    "labels_bbox_height = []\n",
    "\n",
    "labels_illumination = []\n",
    "\n",
    "\n",
    "for i in range(test_length):\n",
    "    labels_class.append(dataset.labels.iloc[i]['class'])\n",
    "    labels_id.append(dataset.labels.iloc[i]['id'])\n",
    "    labels_image.append(dataset.labels.iloc[i]['image'])\n",
    "    labels_depth.append(dataset.labels.iloc[i]['depth'])\n",
    "    labels_illumination.append(dataset.labels.iloc[i]['illumination'])\n",
    "    \n",
    "    labels_bbox_xmin.append(dataset.get_bbox(i)[0])\n",
    "    labels_bbox_ymin.append(dataset.get_bbox(i)[1])\n",
    "    labels_bbox_xmax.append(dataset.get_bbox(i)[2])\n",
    "    labels_bbox_ymax.append(dataset.get_bbox(i)[3])\n",
    "    \n",
    "data = {'class': labels_class,\n",
    "        'id': labels_id,\n",
    "        'image': labels_image,\n",
    "        'depth': labels_depth,\n",
    "        'illumination': labels_illumination,\n",
    "       }\n",
    "\n",
    "bbox_data = {'xmin': labels_bbox_xmin,\n",
    "             'ymin': labels_bbox_ymin,\n",
    "             'xmax': labels_bbox_xmax,\n",
    "             'ymax': labels_bbox_ymax,\n",
    "            }\n",
    "\n",
    "# bbox_xywh_data = {'x': labels_bbox_x,\n",
    "#                   'y': labels_bbox_y,\n",
    "#                   'width': labels_bbox_width,\n",
    "#                   'height': labels_bbox_height,\n",
    "#                  }\n",
    "\n",
    "label_dataframe = pd.DataFrame(data)\n",
    "bbox_dataframe = pd.DataFrame(bbox_data)\n",
    "# bbox_xywh_dataframe = pd.DataFrame(bbox_xywh_data)"
   ]
  },
  {
   "cell_type": "code",
   "execution_count": 7,
   "metadata": {},
   "outputs": [
    {
     "data": {
      "text/html": [
       "<div>\n",
       "<style scoped>\n",
       "    .dataframe tbody tr th:only-of-type {\n",
       "        vertical-align: middle;\n",
       "    }\n",
       "\n",
       "    .dataframe tbody tr th {\n",
       "        vertical-align: top;\n",
       "    }\n",
       "\n",
       "    .dataframe thead th {\n",
       "        text-align: right;\n",
       "    }\n",
       "</style>\n",
       "<table border=\"1\" class=\"dataframe\">\n",
       "  <thead>\n",
       "    <tr style=\"text-align: right;\">\n",
       "      <th></th>\n",
       "      <th>class</th>\n",
       "      <th>id</th>\n",
       "      <th>image</th>\n",
       "      <th>depth</th>\n",
       "      <th>illumination</th>\n",
       "    </tr>\n",
       "  </thead>\n",
       "  <tbody>\n",
       "    <tr>\n",
       "      <th>0</th>\n",
       "      <td>Cloudsat</td>\n",
       "      <td>10563</td>\n",
       "      <td>image_10563_img.png</td>\n",
       "      <td>image_10563_depth.png</td>\n",
       "      <td>81.036141</td>\n",
       "    </tr>\n",
       "    <tr>\n",
       "      <th>1</th>\n",
       "      <td>Terra</td>\n",
       "      <td>6536</td>\n",
       "      <td>image_06536_img.png</td>\n",
       "      <td>image_06536_depth.png</td>\n",
       "      <td>0.244364</td>\n",
       "    </tr>\n",
       "    <tr>\n",
       "      <th>2</th>\n",
       "      <td>Sentinel-6</td>\n",
       "      <td>4676</td>\n",
       "      <td>image_04676_img.png</td>\n",
       "      <td>image_04676_depth.png</td>\n",
       "      <td>0.126758</td>\n",
       "    </tr>\n",
       "    <tr>\n",
       "      <th>3</th>\n",
       "      <td>Sentinel-6</td>\n",
       "      <td>2965</td>\n",
       "      <td>image_02965_img.png</td>\n",
       "      <td>image_02965_depth.png</td>\n",
       "      <td>0.686202</td>\n",
       "    </tr>\n",
       "    <tr>\n",
       "      <th>4</th>\n",
       "      <td>CubeSat</td>\n",
       "      <td>3907</td>\n",
       "      <td>image_03907_img.png</td>\n",
       "      <td>image_03907_depth.png</td>\n",
       "      <td>0.480803</td>\n",
       "    </tr>\n",
       "  </tbody>\n",
       "</table>\n",
       "</div>"
      ],
      "text/plain": [
       "        class     id                image                  depth  illumination\n",
       "0    Cloudsat  10563  image_10563_img.png  image_10563_depth.png     81.036141\n",
       "1       Terra   6536  image_06536_img.png  image_06536_depth.png      0.244364\n",
       "2  Sentinel-6   4676  image_04676_img.png  image_04676_depth.png      0.126758\n",
       "3  Sentinel-6   2965  image_02965_img.png  image_02965_depth.png      0.686202\n",
       "4     CubeSat   3907  image_03907_img.png  image_03907_depth.png      0.480803"
      ]
     },
     "execution_count": 7,
     "metadata": {},
     "output_type": "execute_result"
    }
   ],
   "source": [
    "label_dataframe.head()"
   ]
  },
  {
   "cell_type": "code",
   "execution_count": 8,
   "metadata": {},
   "outputs": [],
   "source": [
    "# bbox_dataframe"
   ]
  },
  {
   "cell_type": "code",
   "execution_count": 9,
   "metadata": {},
   "outputs": [],
   "source": [
    "#bbox_xywh_dataframe"
   ]
  },
  {
   "cell_type": "markdown",
   "metadata": {},
   "source": [
    "### Dataframe slicing"
   ]
  },
  {
   "cell_type": "code",
   "execution_count": 10,
   "metadata": {},
   "outputs": [
    {
     "data": {
      "text/html": [
       "<div>\n",
       "<style scoped>\n",
       "    .dataframe tbody tr th:only-of-type {\n",
       "        vertical-align: middle;\n",
       "    }\n",
       "\n",
       "    .dataframe tbody tr th {\n",
       "        vertical-align: top;\n",
       "    }\n",
       "\n",
       "    .dataframe thead th {\n",
       "        text-align: right;\n",
       "    }\n",
       "</style>\n",
       "<table border=\"1\" class=\"dataframe\">\n",
       "  <thead>\n",
       "    <tr style=\"text-align: right;\">\n",
       "      <th></th>\n",
       "      <th>xmin</th>\n",
       "      <th>ymin</th>\n",
       "    </tr>\n",
       "  </thead>\n",
       "  <tbody>\n",
       "    <tr>\n",
       "      <th>0</th>\n",
       "      <td>262</td>\n",
       "      <td>283</td>\n",
       "    </tr>\n",
       "    <tr>\n",
       "      <th>1</th>\n",
       "      <td>476</td>\n",
       "      <td>469</td>\n",
       "    </tr>\n",
       "    <tr>\n",
       "      <th>2</th>\n",
       "      <td>520</td>\n",
       "      <td>445</td>\n",
       "    </tr>\n",
       "    <tr>\n",
       "      <th>3</th>\n",
       "      <td>377</td>\n",
       "      <td>606</td>\n",
       "    </tr>\n",
       "    <tr>\n",
       "      <th>4</th>\n",
       "      <td>523</td>\n",
       "      <td>421</td>\n",
       "    </tr>\n",
       "  </tbody>\n",
       "</table>\n",
       "</div>"
      ],
      "text/plain": [
       "   xmin  ymin\n",
       "0   262   283\n",
       "1   476   469\n",
       "2   520   445\n",
       "3   377   606\n",
       "4   523   421"
      ]
     },
     "execution_count": 10,
     "metadata": {},
     "output_type": "execute_result"
    }
   ],
   "source": [
    "bbox_dataframe.iloc[0:5,:2]"
   ]
  },
  {
   "cell_type": "code",
   "execution_count": 11,
   "metadata": {},
   "outputs": [
    {
     "data": {
      "text/html": [
       "<div>\n",
       "<style scoped>\n",
       "    .dataframe tbody tr th:only-of-type {\n",
       "        vertical-align: middle;\n",
       "    }\n",
       "\n",
       "    .dataframe tbody tr th {\n",
       "        vertical-align: top;\n",
       "    }\n",
       "\n",
       "    .dataframe thead th {\n",
       "        text-align: right;\n",
       "    }\n",
       "</style>\n",
       "<table border=\"1\" class=\"dataframe\">\n",
       "  <thead>\n",
       "    <tr style=\"text-align: right;\">\n",
       "      <th></th>\n",
       "      <th>xmax</th>\n",
       "      <th>ymax</th>\n",
       "    </tr>\n",
       "  </thead>\n",
       "  <tbody>\n",
       "    <tr>\n",
       "      <th>0</th>\n",
       "      <td>323</td>\n",
       "      <td>367</td>\n",
       "    </tr>\n",
       "    <tr>\n",
       "      <th>1</th>\n",
       "      <td>542</td>\n",
       "      <td>497</td>\n",
       "    </tr>\n",
       "    <tr>\n",
       "      <th>2</th>\n",
       "      <td>584</td>\n",
       "      <td>516</td>\n",
       "    </tr>\n",
       "    <tr>\n",
       "      <th>3</th>\n",
       "      <td>692</td>\n",
       "      <td>945</td>\n",
       "    </tr>\n",
       "    <tr>\n",
       "      <th>4</th>\n",
       "      <td>560</td>\n",
       "      <td>464</td>\n",
       "    </tr>\n",
       "    <tr>\n",
       "      <th>...</th>\n",
       "      <td>...</td>\n",
       "      <td>...</td>\n",
       "    </tr>\n",
       "    <tr>\n",
       "      <th>195</th>\n",
       "      <td>636</td>\n",
       "      <td>455</td>\n",
       "    </tr>\n",
       "    <tr>\n",
       "      <th>196</th>\n",
       "      <td>363</td>\n",
       "      <td>234</td>\n",
       "    </tr>\n",
       "    <tr>\n",
       "      <th>197</th>\n",
       "      <td>505</td>\n",
       "      <td>486</td>\n",
       "    </tr>\n",
       "    <tr>\n",
       "      <th>198</th>\n",
       "      <td>506</td>\n",
       "      <td>503</td>\n",
       "    </tr>\n",
       "    <tr>\n",
       "      <th>199</th>\n",
       "      <td>549</td>\n",
       "      <td>612</td>\n",
       "    </tr>\n",
       "  </tbody>\n",
       "</table>\n",
       "<p>200 rows × 2 columns</p>\n",
       "</div>"
      ],
      "text/plain": [
       "     xmax  ymax\n",
       "0     323   367\n",
       "1     542   497\n",
       "2     584   516\n",
       "3     692   945\n",
       "4     560   464\n",
       "..    ...   ...\n",
       "195   636   455\n",
       "196   363   234\n",
       "197   505   486\n",
       "198   506   503\n",
       "199   549   612\n",
       "\n",
       "[200 rows x 2 columns]"
      ]
     },
     "execution_count": 11,
     "metadata": {},
     "output_type": "execute_result"
    }
   ],
   "source": [
    "bbox_dataframe.iloc[:,2:]"
   ]
  },
  {
   "cell_type": "code",
   "execution_count": 12,
   "metadata": {},
   "outputs": [
    {
     "name": "stdout",
     "output_type": "stream",
     "text": [
      "D:/Downloads/semester_project/project_files/train_small/rgb\\Aquarius/image_07333_img.png\n"
     ]
    }
   ],
   "source": [
    "print(os.path.join(dataset.root_dir, f\"{label_dataframe['class'][i]}/{label_dataframe['image'][i]}\"))"
   ]
  },
  {
   "cell_type": "code",
   "execution_count": 13,
   "metadata": {},
   "outputs": [],
   "source": [
    "def visualize(i, label_dataframe, bbox_dataframe, bbox_xywh_dataframe, root_dir, size=(15,15),  ax=None, image_type='rgb', box_type='corners'):\n",
    "\n",
    "        \"\"\" Visualizing image, with ground truth pose with axes projected to training image. \"\"\"\n",
    "\n",
    "        if ax is None:\n",
    "            ax = plt.gca()\n",
    "            \n",
    "        image_path = os.path.join(root_dir, f\"rgb/{label_dataframe['class'][i]}/{label_dataframe['image'][i]}\")\n",
    "        depth_path = os.path.join(root_dir, f\"depth/{label_dataframe['class'][i]}/{label_dataframe['depth'][i]}\")\n",
    "        \n",
    "        min_x = bbox_dataframe['xmin'][i]\n",
    "        min_y = bbox_dataframe['ymin'][i]\n",
    "        max_x = bbox_dataframe['xmax'][i]\n",
    "        max_y = bbox_dataframe['ymax'][i]\n",
    "        \n",
    "        \n",
    "        image = io.imread(image_path)\n",
    "        depth = io.imread(depth_path)\n",
    "\n",
    "        if image_type=='rgb':\n",
    "            ax.imshow(image,vmin=0, vmax=255)\n",
    "            my_color = 'red'\n",
    "            im_scale = 1\n",
    "        elif image_type=='depth':\n",
    "            ax.imshow(depth, vmin=0, vmax=255)\n",
    "            my_color = 'red'\n",
    "            im_scale = 0.25\n",
    "        else:\n",
    "            print('Incorrect parameter: image_type. Exiting function!')\n",
    "            return\n",
    "        \n",
    "        \n",
    "        if box_type == 'corners':\n",
    "            min_x = bbox_dataframe['xmin'][i]\n",
    "            min_y = bbox_dataframe['ymin'][i]\n",
    "            max_x = bbox_dataframe['xmax'][i]\n",
    "            max_y = bbox_dataframe['ymax'][i]\n",
    "            rect = mpatches.Rectangle((im_scale*min_y, im_scale*min_x), im_scale*(max_y - min_y), im_scale*(max_x - min_x),\n",
    "                                        fill=False, edgecolor=my_color, linewidth=2)\n",
    "        elif box_type == 'xywh':\n",
    "            x = bbox_xywh_dataframe['x'][i]\n",
    "            y = bbox_xywh_dataframe['y'][i]\n",
    "            width = bbox_xywh_dataframe['width'][i]\n",
    "            height = bbox_xywh_dataframe['height'][i]\n",
    "            rect = mpatches.Rectangle((im_scale*(y-height/2), im_scale*(x-width/2)), im_scale*height, im_scale*width,\n",
    "                                        fill=False, edgecolor=my_color, linewidth=2)\n",
    "        else:\n",
    "            print('Incorrect parameter: box_type. Exiting function!')\n",
    "            return\n",
    "        \n",
    "\n",
    "        ax.add_patch(rect)\n",
    "        \n",
    "        #label = f\"{list(self.class_map.keys())[list(self.class_map.values()).index(img_class)]}\"\n",
    "        \n",
    "        #ax.text(min_y, min_x-20, label,color='white',fontsize=15)\n",
    "        ax.set_axis_off()\n",
    "\n",
    "        return "
   ]
  },
  {
   "cell_type": "code",
   "execution_count": 14,
   "metadata": {},
   "outputs": [
    {
     "data": {
      "image/png": "[encoded data removed]",
      "text/plain": [
       "<Figure size 432x288 with 1 Axes>"
      ]
     },
     "metadata": {
      "needs_background": "light"
     },
     "output_type": "display_data"
    }
   ],
   "source": [
    "root_dir = '/run/media/dave/Volume/cvia_dataset/train_small/'\n",
    "root_dir = 'D:/Downloads/semester_project/project_files/train_small/'\n",
    "visualize(3, \n",
    "          label_dataframe,\n",
    "          bbox_dataframe,\n",
    "          convert_to_xywh(bbox_dataframe),\n",
    "          root_dir,\n",
    "          ax=None,\n",
    "          size=(15,15),\n",
    "          image_type='rgb',\n",
    "          box_type='corners')"
   ]
  },
  {
   "cell_type": "code",
   "execution_count": null,
   "metadata": {},
   "outputs": [],
   "source": []
  },
  {
   "cell_type": "markdown",
   "metadata": {},
   "source": [
    "## Create model conform dataset"
   ]
  },
  {
   "cell_type": "markdown",
   "metadata": {},
   "source": [
    "Dataset should be compliant to the following form:\n",
    "\n",
    "```python\n",
    "{'image': TensorSpec(shape=(None, None, 3), dtype=tf.uint8, name=None), \n",
    " 'image/filename': TensorSpec(shape=(), dtype=tf.string, name=None), \n",
    " 'image/id': TensorSpec(shape=(), dtype=tf.int64, name=None), \n",
    " 'objects': \n",
    "     {'area': TensorSpec(shape=(None,), dtype=tf.int64, name=None), \n",
    "      'bbox': TensorSpec(shape=(None, 4), dtype=tf.float32, name=None), \n",
    "      'id': TensorSpec(shape=(None,), dtype=tf.int64, name=None), \n",
    "      'is_crowd': TensorSpec(shape=(None,), dtype=tf.bool, name=None), \n",
    "      'label': TensorSpec(shape=(None,), dtype=tf.int64, name=None)\n",
    "     }\n",
    "}\n",
    "```"
   ]
  },
  {
   "cell_type": "code",
   "execution_count": null,
   "metadata": {},
   "outputs": [],
   "source": [
    "{image: (1024, 1024, 3),\n",
    " image/filename: (),\n",
    " image/id: (),\n",
    " objects: {\n",
    "    area: (), \n",
    "    bbox: (4,), \n",
    "    id: (), \n",
    "    is_crowd: (), \n",
    "    label: ()}\n",
    "}                                                                                                                                     image/filename: tf.string, \n",
    "                                                                                                                                      image/id: tf.int64, \n",
    "                                                                                                                                      objects: {area: tf.int64, bbox: tf.int64, id: tf.int64, is_crowd: tf.float64, label: tf.string}}>"
   ]
  },
  {
   "cell_type": "code",
   "execution_count": 15,
   "metadata": {},
   "outputs": [
    {
     "data": {
      "text/html": [
       "<div>\n",
       "<style scoped>\n",
       "    .dataframe tbody tr th:only-of-type {\n",
       "        vertical-align: middle;\n",
       "    }\n",
       "\n",
       "    .dataframe tbody tr th {\n",
       "        vertical-align: top;\n",
       "    }\n",
       "\n",
       "    .dataframe thead th {\n",
       "        text-align: right;\n",
       "    }\n",
       "</style>\n",
       "<table border=\"1\" class=\"dataframe\">\n",
       "  <thead>\n",
       "    <tr style=\"text-align: right;\">\n",
       "      <th></th>\n",
       "      <th>class</th>\n",
       "      <th>id</th>\n",
       "      <th>image</th>\n",
       "      <th>depth</th>\n",
       "      <th>illumination</th>\n",
       "    </tr>\n",
       "  </thead>\n",
       "  <tbody>\n",
       "    <tr>\n",
       "      <th>0</th>\n",
       "      <td>Cloudsat</td>\n",
       "      <td>10563</td>\n",
       "      <td>image_10563_img.png</td>\n",
       "      <td>image_10563_depth.png</td>\n",
       "      <td>81.036141</td>\n",
       "    </tr>\n",
       "    <tr>\n",
       "      <th>1</th>\n",
       "      <td>Terra</td>\n",
       "      <td>6536</td>\n",
       "      <td>image_06536_img.png</td>\n",
       "      <td>image_06536_depth.png</td>\n",
       "      <td>0.244364</td>\n",
       "    </tr>\n",
       "    <tr>\n",
       "      <th>2</th>\n",
       "      <td>Sentinel-6</td>\n",
       "      <td>4676</td>\n",
       "      <td>image_04676_img.png</td>\n",
       "      <td>image_04676_depth.png</td>\n",
       "      <td>0.126758</td>\n",
       "    </tr>\n",
       "    <tr>\n",
       "      <th>3</th>\n",
       "      <td>Sentinel-6</td>\n",
       "      <td>2965</td>\n",
       "      <td>image_02965_img.png</td>\n",
       "      <td>image_02965_depth.png</td>\n",
       "      <td>0.686202</td>\n",
       "    </tr>\n",
       "    <tr>\n",
       "      <th>4</th>\n",
       "      <td>CubeSat</td>\n",
       "      <td>3907</td>\n",
       "      <td>image_03907_img.png</td>\n",
       "      <td>image_03907_depth.png</td>\n",
       "      <td>0.480803</td>\n",
       "    </tr>\n",
       "  </tbody>\n",
       "</table>\n",
       "</div>"
      ],
      "text/plain": [
       "        class     id                image                  depth  illumination\n",
       "0    Cloudsat  10563  image_10563_img.png  image_10563_depth.png     81.036141\n",
       "1       Terra   6536  image_06536_img.png  image_06536_depth.png      0.244364\n",
       "2  Sentinel-6   4676  image_04676_img.png  image_04676_depth.png      0.126758\n",
       "3  Sentinel-6   2965  image_02965_img.png  image_02965_depth.png      0.686202\n",
       "4     CubeSat   3907  image_03907_img.png  image_03907_depth.png      0.480803"
      ]
     },
     "execution_count": 15,
     "metadata": {},
     "output_type": "execute_result"
    }
   ],
   "source": [
    "label_dataframe.head()"
   ]
  },
  {
   "cell_type": "code",
   "execution_count": 16,
   "metadata": {},
   "outputs": [
    {
     "data": {
      "text/html": [
       "<div>\n",
       "<style scoped>\n",
       "    .dataframe tbody tr th:only-of-type {\n",
       "        vertical-align: middle;\n",
       "    }\n",
       "\n",
       "    .dataframe tbody tr th {\n",
       "        vertical-align: top;\n",
       "    }\n",
       "\n",
       "    .dataframe thead th {\n",
       "        text-align: right;\n",
       "    }\n",
       "</style>\n",
       "<table border=\"1\" class=\"dataframe\">\n",
       "  <thead>\n",
       "    <tr style=\"text-align: right;\">\n",
       "      <th></th>\n",
       "      <th>xmin</th>\n",
       "      <th>ymin</th>\n",
       "      <th>xmax</th>\n",
       "      <th>ymax</th>\n",
       "    </tr>\n",
       "  </thead>\n",
       "  <tbody>\n",
       "    <tr>\n",
       "      <th>0</th>\n",
       "      <td>262</td>\n",
       "      <td>283</td>\n",
       "      <td>323</td>\n",
       "      <td>367</td>\n",
       "    </tr>\n",
       "    <tr>\n",
       "      <th>1</th>\n",
       "      <td>476</td>\n",
       "      <td>469</td>\n",
       "      <td>542</td>\n",
       "      <td>497</td>\n",
       "    </tr>\n",
       "    <tr>\n",
       "      <th>2</th>\n",
       "      <td>520</td>\n",
       "      <td>445</td>\n",
       "      <td>584</td>\n",
       "      <td>516</td>\n",
       "    </tr>\n",
       "    <tr>\n",
       "      <th>3</th>\n",
       "      <td>377</td>\n",
       "      <td>606</td>\n",
       "      <td>692</td>\n",
       "      <td>945</td>\n",
       "    </tr>\n",
       "    <tr>\n",
       "      <th>4</th>\n",
       "      <td>523</td>\n",
       "      <td>421</td>\n",
       "      <td>560</td>\n",
       "      <td>464</td>\n",
       "    </tr>\n",
       "  </tbody>\n",
       "</table>\n",
       "</div>"
      ],
      "text/plain": [
       "   xmin  ymin  xmax  ymax\n",
       "0   262   283   323   367\n",
       "1   476   469   542   497\n",
       "2   520   445   584   516\n",
       "3   377   606   692   945\n",
       "4   523   421   560   464"
      ]
     },
     "execution_count": 16,
     "metadata": {},
     "output_type": "execute_result"
    }
   ],
   "source": [
    "bbox_dataframe.head()"
   ]
  },
  {
   "cell_type": "markdown",
   "metadata": {},
   "source": [
    "#### Generate a dataframe slice with the images"
   ]
  },
  {
   "cell_type": "code",
   "execution_count": 63,
   "metadata": {},
   "outputs": [],
   "source": [
    "def generate_images_frame(dataframe, root_dir):\n",
    "    images = []\n",
    "    image_path = os.path.join(root_dir, f\"rgb/{label_dataframe['class'][i]}/{label_dataframe['image'][i]}\")\n",
    "    for image_name in label_dataframe['image']:\n",
    "         images.append(io.imread(image_path))\n",
    "    return images"
   ]
  },
  {
   "cell_type": "markdown",
   "metadata": {},
   "source": [
    "#### Generate the tensorflow dataframe with the respective fields"
   ]
  },
  {
   "cell_type": "code",
   "execution_count": 92,
   "metadata": {},
   "outputs": [],
   "source": [
    "dataset_images = generate_images_frame(label_dataframe, root_dir)"
   ]
  },
  {
   "cell_type": "code",
   "execution_count": 93,
   "metadata": {},
   "outputs": [],
   "source": [
    "dataset_areas = []\n",
    "areas = (bbox_dataframe['xmax'] - bbox_dataframe['xmin']) * (bbox_dataframe['ymax'] - bbox_dataframe['ymin'])\n",
    "is_crowds = []\n",
    "for i in range(len(label_dataframe)):\n",
    "    is_crowds.append(False)\n",
    "#np.zeros(len(label_dataframe))\n",
    "\n",
    "dataset_objects = {'area': areas,\n",
    "                   'bbox': bbox_dataframe,\n",
    "                   'id': label_dataframe['id'],\n",
    "                   'is_crowd': is_crowds,\n",
    "                   'label': label_dataframe['class'],\n",
    "                  }\n",
    "tf_input_data = {'image': dataset_images, \n",
    "                 'image/filename': label_dataframe['image'], \n",
    "                 'image/id': label_dataframe['id'],\n",
    "                 'objects': dataset_objects\n",
    "                 }"
   ]
  },
  {
   "cell_type": "code",
   "execution_count": 94,
   "metadata": {},
   "outputs": [],
   "source": [
    "tf_dataset = tf.data.Dataset.from_tensor_slices(tf_input_data)"
   ]
  },
  {
   "cell_type": "code",
   "execution_count": 96,
   "metadata": {},
   "outputs": [
    {
     "name": "stdout",
     "output_type": "stream",
     "text": [
      "<TensorSliceDataset shapes: {image: (1024, 1024, 3), image/filename: (), image/id: (), objects: {area: (), bbox: (4,), id: (), is_crowd: (), label: ()}}, types: {image: tf.int32, image/filename: tf.string, image/id: tf.int64, objects: {area: tf.int64, bbox: tf.int64, id: tf.int64, is_crowd: tf.bool, label: tf.string}}>\n"
     ]
    }
   ],
   "source": [
    "print(tf_dataset)"
   ]
  },
  {
   "cell_type": "code",
   "execution_count": null,
   "metadata": {},
   "outputs": [],
   "source": [
    "label_dataframe"
   ]
  },
  {
   "cell_type": "code",
   "execution_count": 95,
   "metadata": {},
   "outputs": [
    {
     "ename": "ModuleNotFoundError",
     "evalue": "No module named 'retinanet_keras_exmple'",
     "output_type": "error",
     "traceback": [
      "\u001b[1;31m---------------------------------------------------------------------------\u001b[0m",
      "\u001b[1;31mModuleNotFoundError\u001b[0m                       Traceback (most recent call last)",
      "\u001b[1;32m~\\AppData\\Local\\Temp/ipykernel_20788/1057550691.py\u001b[0m in \u001b[0;36m<module>\u001b[1;34m\u001b[0m\n\u001b[1;32m----> 1\u001b[1;33m \u001b[1;32mfrom\u001b[0m \u001b[0mretinanet_keras_exmple\u001b[0m \u001b[1;32mimport\u001b[0m \u001b[1;33m*\u001b[0m\u001b[1;33m\u001b[0m\u001b[1;33m\u001b[0m\u001b[0m\n\u001b[0m",
      "\u001b[1;31mModuleNotFoundError\u001b[0m: No module named 'retinanet_keras_exmple'"
     ]
    }
   ],
   "source": [
    "from retinanet_keras_exmple import *"
   ]
  },
  {
   "cell_type": "code",
   "execution_count": 45,
   "metadata": {},
   "outputs": [],
   "source": [
    "# def compute_iou(boxes1, boxes2):\n",
    "#     \"\"\"Computes pairwise IOU matrix for given two sets of boxes\n",
    "\n",
    "#     Arguments:\n",
    "#       boxes1: A tensor with shape `(N, 4)` representing bounding boxes\n",
    "#         where each box is of the format `[x, y, width, height]`.\n",
    "#         boxes2: A tensor with shape `(M, 4)` representing bounding boxes\n",
    "#         where each box is of the format `[x, y, width, height]`.\n",
    "\n",
    "#     Returns:\n",
    "#       pairwise IOU matrix with shape `(N, M)`, where the value at ith row\n",
    "#         jth column holds the IOU between ith box and jth box from\n",
    "#         boxes1 and boxes2 respectively.\n",
    "#     \"\"\"\n",
    "#     boxes1_corners = convert_to_corners(boxes1)\n",
    "#     boxes2_corners = convert_to_corners(boxes2)\n",
    "#     lu = tf.maximum(boxes1.iloc[:, :2], boxes2.iloc[:, :2])\n",
    "#     rd = tf.minimum(boxes1.iloc[:, 2:], boxes2.iloc[:, 2:])\n",
    "#     zeros_frame = pd.DataFrame(np.zeros((len(boxes1), 1)))\n",
    "#     intersection = tf.maximum(zeros_frame, rd - lu)\n",
    "#     intersection_area = intersection[:, 0] * intersection[:, 1]\n",
    "#     boxes1_area = boxes1.iloc[:, 2] * boxes1.iloc[:, 3]\n",
    "#     boxes2_area = boxes2.iloc[:, 2] * boxes2.iloc[:, 3]\n",
    "#     ones_frame = pd.DataFrame(np.ones((len(boxes1), 1)))\n",
    "#     union_area = tf.maximum(\n",
    "#         boxes1_area + boxes2_area - intersection_area, 1e-8 * ones_frame\n",
    "#     )\n",
    "#     return tf.clip_by_value(intersection_area / union_area, 0.0, 1.0)"
   ]
  },
  {
   "cell_type": "code",
   "execution_count": 46,
   "metadata": {},
   "outputs": [
    {
     "data": {
      "text/plain": [
       "<tf.Tensor: shape=(200, 200), dtype=float64, numpy=\n",
       "array([[0.02209021, 0.00344198, 0.00759683, ..., 0.00288078, 0.00761697,\n",
       "        0.01667897],\n",
       "       [0.02209021, 0.00344198, 0.00759683, ..., 0.00288078, 0.00761697,\n",
       "        0.01667897],\n",
       "       [0.02209021, 0.00344198, 0.00759683, ..., 0.00288078, 0.00761697,\n",
       "        0.01667897],\n",
       "       ...,\n",
       "       [0.02209021, 0.00344198, 0.00759683, ..., 0.00288078, 0.00761697,\n",
       "        0.01667897],\n",
       "       [0.02209021, 0.00344198, 0.00759683, ..., 0.00288078, 0.00761697,\n",
       "        0.01667897],\n",
       "       [0.02209021, 0.00344198, 0.00759683, ..., 0.00288078, 0.00761697,\n",
       "        0.01667897]])>"
      ]
     },
     "execution_count": 46,
     "metadata": {},
     "output_type": "execute_result"
    }
   ],
   "source": [
    "# compute_iou(bbox_dataframe, bbox_dataframe)"
   ]
  },
  {
   "cell_type": "code",
   "execution_count": 47,
   "metadata": {},
   "outputs": [],
   "source": [
    "# def visualize_detections(\n",
    "#     image, boxes, classes, scores, figsize=(7, 7), linewidth=1, color=[0, 0, 1]\n",
    "# ):\n",
    "#     \"\"\"Visualize Detections\"\"\"\n",
    "#     image = np.array(image, dtype=np.uint8)\n",
    "#     plt.figure(figsize=figsize)\n",
    "#     plt.axis(\"off\")\n",
    "#     plt.imshow(image)\n",
    "#     ax = plt.gca()\n",
    "#     for box, _cls, score in zip(boxes, classes, scores):\n",
    "#         text = \"{}: {:.2f}\".format(_cls, score)\n",
    "#         x1, y1, x2, y2 = box\n",
    "#         w, h = x2 - x1, y2 - y1\n",
    "#         patch = plt.Rectangle(\n",
    "#             [x1, y1], w, h, fill=False, edgecolor=color, linewidth=linewidth\n",
    "#         )\n",
    "#         ax.add_patch(patch)\n",
    "#         ax.text(\n",
    "#             x1,\n",
    "#             y1,\n",
    "#             text,\n",
    "#             bbox={\"facecolor\": color, \"alpha\": 0.4},\n",
    "#             clip_box=ax.clipbox,\n",
    "#             clip_on=True,\n",
    "#         )\n",
    "#     plt.show()\n",
    "#     return ax"
   ]
  },
  {
   "cell_type": "code",
   "execution_count": null,
   "metadata": {},
   "outputs": [],
   "source": []
  }
 ],
 "metadata": {
  "kernelspec": {
   "display_name": "Python 3 (ipykernel)",
   "language": "python",
   "name": "python3"
  },
  "language_info": {
   "codemirror_mode": {
    "name": "ipython",
    "version": 3
   },
   "file_extension": ".py",
   "mimetype": "text/x-python",
   "name": "python",
   "nbconvert_exporter": "python",
   "pygments_lexer": "ipython3",
   "version": "3.8.12"
  }
 },
 "nbformat": 4,
 "nbformat_minor": 4
}
